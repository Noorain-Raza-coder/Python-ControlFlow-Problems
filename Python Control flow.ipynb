{
 "cells": [
  {
   "cell_type": "markdown",
   "id": "364029a4-aaeb-480c-bfc6-772f86906917",
   "metadata": {},
   "source": [
    "# Basic If-Else Statements:"
   ]
  },
  {
   "cell_type": "markdown",
   "id": "67893ed1-0fe8-4f7a-a002-5f1ffe0fe30a",
   "metadata": {},
   "source": [
    "## 1) Write a Python program to check if a given number is positive or negative."
   ]
  },
  {
   "cell_type": "markdown",
   "id": "79ec576f-df73-4019-bc38-22cb6cce042c",
   "metadata": {},
   "source": [
    "### Ans 1)\n",
    "\n",
    "#### Steps:\n",
    "- Take a number from user.\n",
    "- If number is greater than zero, it is positive else negative."
   ]
  },
  {
   "cell_type": "code",
   "execution_count": 1,
   "id": "10e940b2-1455-46c2-93b6-fc127bb93bac",
   "metadata": {},
   "outputs": [
    {
     "name": "stdin",
     "output_type": "stream",
     "text": [
      "Enter any number to check whether it is positive or negative :  10\n"
     ]
    },
    {
     "name": "stdout",
     "output_type": "stream",
     "text": [
      "Given number is Positive.\n"
     ]
    }
   ],
   "source": [
    "number = int(input(\"Enter any number to check whether it is positive or negative : \"))\n",
    "\n",
    "if number > 0:\n",
    "    print(\"Given number is Positive.\")\n",
    "else:\n",
    "    print(\"Given number is Negative.\")    "
   ]
  },
  {
   "cell_type": "markdown",
   "id": "265c4929-b322-4a9e-ba34-807c4ac5bce3",
   "metadata": {},
   "source": [
    "## 2) Create a program that determines if a person is eligible to vote based on their age"
   ]
  },
  {
   "cell_type": "markdown",
   "id": "8fc23e47-9e4d-45a6-8721-cd2d87fe3b30",
   "metadata": {},
   "source": [
    "### Ans 2)\n",
    "\n",
    "#### Steps:\n",
    "- Take age as an input from user.\n",
    "- If the age is greater than or equal to 18 then person is eligible to vote, else person is not eligible to vote."
   ]
  },
  {
   "cell_type": "code",
   "execution_count": 3,
   "id": "e63d2269-40f5-47cc-9f38-76d03c3be719",
   "metadata": {},
   "outputs": [
    {
     "name": "stdin",
     "output_type": "stream",
     "text": [
      "Enter your age to check whether you are eligible to vote or not :  6\n"
     ]
    },
    {
     "name": "stdout",
     "output_type": "stream",
     "text": [
      "Person/You are not eligible to vote.\n"
     ]
    }
   ],
   "source": [
    "age = int(input(\"Enter your age to check whether you are eligible to vote or not : \"))\n",
    "\n",
    "if age >= 18 :\n",
    "    print(\"Person/You are eligible to vote.\")\n",
    "else:\n",
    "    print(\"Person/You are not eligible to vote.\")    "
   ]
  },
  {
   "cell_type": "markdown",
   "id": "0edb801f-5719-42bd-81e5-3aad3ead51e0",
   "metadata": {},
   "source": [
    "## 3) Develop a program to find the maximum of two numbers using if-else statements."
   ]
  },
  {
   "cell_type": "markdown",
   "id": "8af3b8a8-07a5-45e0-8bbe-e5e69045d122",
   "metadata": {},
   "source": [
    "### Ans 3)\n",
    "\n",
    "#### Steps:\n",
    "- Take two number a and b from user .\n",
    "- If a is greater than b then a is maximum, else b is maximum."
   ]
  },
  {
   "cell_type": "code",
   "execution_count": 4,
   "id": "8e6c05bf-050f-4027-8080-3421efe1577e",
   "metadata": {},
   "outputs": [
    {
     "name": "stdin",
     "output_type": "stream",
     "text": [
      "Enter value of A :  1\n",
      "Enter value of B :  10\n"
     ]
    },
    {
     "name": "stdout",
     "output_type": "stream",
     "text": [
      "10 is maximum.\n"
     ]
    }
   ],
   "source": [
    "a = int(input(\"Enter value of A : \"))\n",
    "b = int(input(\"Enter value of B : \"))\n",
    "\n",
    "if a > b:\n",
    "    print(f\"{a} is maximum.\")\n",
    "elif a == b:\n",
    "    print(\"Both numbers are equal, enter different numbers.\")\n",
    "else:\n",
    "    print(f\"{b} is maximum.\")    "
   ]
  },
  {
   "cell_type": "markdown",
   "id": "e683b150-0ff6-480c-ac8d-c53d872d4af4",
   "metadata": {},
   "source": [
    "## 4) Write a Python script to classify a given year as a leap year or not."
   ]
  },
  {
   "cell_type": "markdown",
   "id": "82cce4bc-5354-46b7-960a-745f654a87f9",
   "metadata": {},
   "source": [
    "### Ans 3)\n",
    "\n",
    "1) A year is said to be leap year if it satisfy the following conditions are satisfied:\n",
    "- i) The Year is a multiple of 400.\n",
    "- ii) The Year is a multiple of 4 and not a multiple of 100.\n",
    "\n",
    "#### Steps:\n",
    "- Take the year from user .\n",
    "- Take modulo division of the year with 400, if it is zero then year is multiple of 400.\n",
    "- Or take modulo division of the year with 4 , if it is zero and modulo division with 100 is not zero, then year is multiple of 4 and not a multiple of 100."
   ]
  },
  {
   "cell_type": "code",
   "execution_count": 3,
   "id": "54778fb9-9f7a-400e-9821-e950c47dcb96",
   "metadata": {},
   "outputs": [
    {
     "name": "stdin",
     "output_type": "stream",
     "text": [
      "Enter the year to check whether it is leap year or not :  2020\n"
     ]
    },
    {
     "name": "stdout",
     "output_type": "stream",
     "text": [
      "The year is leap year.\n"
     ]
    }
   ],
   "source": [
    "year = int(input(\"Enter the year to check whether it is leap year or not : \"))\n",
    "\n",
    "if (year%400 ==0) or (year%4==0 and year%100!=0):\n",
    "    print(\"The year is leap year.\")\n",
    "else:\n",
    "    print(\"The year is not a leap year.\")    "
   ]
  },
  {
   "cell_type": "markdown",
   "id": "fb2ea304-6c6c-43d3-a1bf-ccc00a2e9164",
   "metadata": {},
   "source": [
    "## 5) Create a program that checks whether a character is a vowel or a consonant."
   ]
  },
  {
   "cell_type": "markdown",
   "id": "39192d2f-5c8f-4311-a15b-1b36167f1a0b",
   "metadata": {},
   "source": [
    "### Ans 5)\n",
    "\n",
    "#### Steps:\n",
    "- Take a character from user.\n",
    "- check character is in list of vowel or not.\n",
    "- If character is in list of vowel then char is vowel else char is consonant."
   ]
  },
  {
   "cell_type": "code",
   "execution_count": 6,
   "id": "620e795e-ffb5-4f88-a052-b1c18c3d6203",
   "metadata": {},
   "outputs": [
    {
     "name": "stdin",
     "output_type": "stream",
     "text": [
      "Enter any character to check whether it is vowel or a consonant :  A\n"
     ]
    },
    {
     "name": "stdout",
     "output_type": "stream",
     "text": [
      "Character is vowel.\n"
     ]
    }
   ],
   "source": [
    "char5 = input(\"Enter any character to check whether it is vowel or a consonant : \")\n",
    "\n",
    "if char5.lower() in ['a','e','i','o','u']:\n",
    "    print(\"Character is vowel.\")\n",
    "else:\n",
    "    print(\"Character is a consonant.\")    "
   ]
  },
  {
   "cell_type": "markdown",
   "id": "ae096f1f-f6fc-44c1-a5a4-6b373667def2",
   "metadata": {},
   "source": [
    "## 6) Implement a program to determine whether a given number is even or odd."
   ]
  },
  {
   "cell_type": "markdown",
   "id": "4428c756-38d1-4590-8611-72e485a88d0b",
   "metadata": {},
   "source": [
    "### Ans 6)\n",
    "\n",
    "#### Steps:\n",
    "- Take a number from user.\n",
    "- If number is divisible by 2 then number is even, else number is odd."
   ]
  },
  {
   "cell_type": "code",
   "execution_count": 7,
   "id": "669c734a-8402-42da-96a3-56de1420d700",
   "metadata": {},
   "outputs": [
    {
     "name": "stdin",
     "output_type": "stream",
     "text": [
      "Enter a number to check whether it is even or odd :  20\n"
     ]
    },
    {
     "name": "stdout",
     "output_type": "stream",
     "text": [
      "Given number is even.\n"
     ]
    }
   ],
   "source": [
    "num6 = int(input(\"Enter a number to check whether it is even or odd : \"))\n",
    "\n",
    "if num6%2 == 0:\n",
    "    print(\"Given number is even.\")\n",
    "else:\n",
    "    print(\"Given number is odd.\")    "
   ]
  },
  {
   "cell_type": "markdown",
   "id": "30a50bb9-4230-468d-a0f1-a432870624b9",
   "metadata": {},
   "source": [
    "## 7) Write a Python function to calculate the absolute value of a number without using the `abs()` function."
   ]
  },
  {
   "cell_type": "markdown",
   "id": "f4939bab-a61f-4eed-96c0-68625b61d833",
   "metadata": {},
   "source": [
    "### Ans 7)\n",
    "\n",
    "1) The Python abs() function return the absolute value. The absolute value of any number is always positive it removes the negative sign of a number in Python.\n",
    "\n",
    "#### Steps:\n",
    "- Take a number from user.\n",
    "- If number is greater than zero then number is positive, return the number as it is.\n",
    "- If number is less than zero then number is negative, now do following steps:\n",
    "- 1) convert number into string.\n",
    "- 2) replace negative sign ('-') with nothing ('').\n",
    "- 3) Convert string again into integer and return it."
   ]
  },
  {
   "cell_type": "code",
   "execution_count": 15,
   "id": "b4133b07-c746-4945-aa98-f1fa5b627c09",
   "metadata": {},
   "outputs": [
    {
     "name": "stdin",
     "output_type": "stream",
     "text": [
      "Enter a number to get absolute of it :  -20\n"
     ]
    },
    {
     "name": "stdout",
     "output_type": "stream",
     "text": [
      "Absolute value is :  20\n"
     ]
    }
   ],
   "source": [
    "num7 = int(input(\"Enter a number to get absolute of it : \"))\n",
    "\n",
    "if num7 > 0:\n",
    "    print(\"Absolute value is : \",num7)\n",
    "else:\n",
    "    num7 = int(str(num7).replace('-',''))\n",
    "    print(\"Absolute value is : \",num7)"
   ]
  },
  {
   "cell_type": "markdown",
   "id": "00547c78-9702-48b0-bcb0-3141c0967638",
   "metadata": {},
   "source": [
    "## 8) Develop a program that determines the largest of three given numbers using if-else statements."
   ]
  },
  {
   "cell_type": "markdown",
   "id": "fa60f64c-1b3e-4998-be4f-5eafb2d89722",
   "metadata": {},
   "source": [
    "### Ans 8)\n",
    "\n",
    "#### Steps:\n",
    "- Take three numbers from user.\n",
    "- If number a is greater than b and c then a is the largest number.\n",
    "- If number b is greater than ba and c then a is the largest number.\n",
    "- Else c is the largest number."
   ]
  },
  {
   "cell_type": "code",
   "execution_count": 16,
   "id": "fa39fbdc-31ce-40b1-bec1-e507fe9e7e02",
   "metadata": {},
   "outputs": [
    {
     "name": "stdin",
     "output_type": "stream",
     "text": [
      "Enter value of A : 1\n",
      "Enter value of B : 2\n",
      "Enter value of C : 4\n"
     ]
    },
    {
     "name": "stdout",
     "output_type": "stream",
     "text": [
      "4 is the largest number.\n"
     ]
    }
   ],
   "source": [
    "a = int(input(\"Enter value of A :\"))\n",
    "b = int(input(\"Enter value of B :\"))\n",
    "c = int(input(\"Enter value of C :\"))\n",
    "\n",
    "if a > b and a > c:\n",
    "    print(f\"{a} is the largest number.\")\n",
    "elif b > a and b > c: \n",
    "    print(f\"{b} is the largest number.\")    \n",
    "\n",
    "else:\n",
    "    print(f\"{c} is the largest number.\")    \n",
    "    "
   ]
  },
  {
   "cell_type": "markdown",
   "id": "45ad9ae3-5730-4b2c-b403-95392b8805fe",
   "metadata": {},
   "source": [
    "## 9)  Create a program that checks if a given string is a palindrome."
   ]
  },
  {
   "cell_type": "markdown",
   "id": "2194de7c-0ccb-4abf-9480-24684eb2ac77",
   "metadata": {},
   "source": [
    "## Ans 9) \n",
    "\n",
    "1) Palindrome String : A string is said to be palindrome if first half of the string is same as the reversed of second half of the string.\n",
    "\n",
    "### Steps:\n",
    "- Take the string from the user\n",
    "- First check the length of the string.\n",
    "- 1) If the length is odd then string is not a palindrome.\n",
    "- 2) If legth is even then executes below steps.\n",
    "- Divide the string into two parts i.e str1 and str2\n",
    "- Reverse the second half of the string i.e str2.\n",
    "- Now compare both of the half of the string.\n",
    "- If both are same,given string is palindrome else not."
   ]
  },
  {
   "cell_type": "code",
   "execution_count": 17,
   "id": "3c6a837b-56f1-4637-9503-43b9d347af88",
   "metadata": {},
   "outputs": [
    {
     "name": "stdin",
     "output_type": "stream",
     "text": [
      "Enter the string to check, is it palindrome or not? ahaaha\n"
     ]
    },
    {
     "name": "stdout",
     "output_type": "stream",
     "text": [
      "Given string is a Palindrome.\n"
     ]
    }
   ],
   "source": [
    "# 1) Take the string from the user\n",
    "input_str = input(\"Enter the string to check, is it palindrome or not?\")\n",
    "\n",
    "# 2) First check the length of the string.\n",
    "str_len = len(input_str)\n",
    "\n",
    "# 3) If the length is odd then string is not a palindrome.\n",
    "# 2) If legth is even then executes below steps.\n",
    "# Divide the string into two parts i.e str1 and str2\n",
    "# Reverse the second half of the string i.e str2.\n",
    "# Now compare both of the half of the string.\n",
    "# If both are same,given string is palindrome else not.\n",
    "\n",
    "if str_len%2 != 0:\n",
    "    print(f\"Given string is not a Palindrome.\")\n",
    "else:\n",
    "    # divide the string into two parts\n",
    "    str1 = input_str[:str_len//2]\n",
    "    str2 = input_str[str_len//2:]\n",
    "    \n",
    "    # reverse the str2 \n",
    "    str2 = str2[::-1]\n",
    "    \n",
    "    # comapre both the string\n",
    "    if str1 == str2:\n",
    "        print(f\"Given string is a Palindrome.\")\n",
    "    else:\n",
    "        print(f\"Given string is not a Palindrome.\")"
   ]
  },
  {
   "cell_type": "markdown",
   "id": "2d924c6a-e20f-4630-8c9c-28f191f24693",
   "metadata": {},
   "source": [
    "## 10) Write a Python program to calculate the grade based on a student's score."
   ]
  },
  {
   "cell_type": "markdown",
   "id": "57d4b414-5f88-49da-89d6-8169ed746abf",
   "metadata": {},
   "source": [
    "### Ans 10)\n",
    "\n",
    "#### Steps:\n",
    "- Take student's score from user.\n",
    "- Create three range :\n",
    "- 1) Grade A : >= 90 - 80 marks\n",
    "- 2) Grade B : 75 - 80 marks\n",
    "- 3) Grade C : below 75 marks\n",
    "- Return the grade according to the score range."
   ]
  },
  {
   "cell_type": "code",
   "execution_count": 20,
   "id": "e46ae40b-dfb0-4872-abaf-c0a598eb5e7a",
   "metadata": {},
   "outputs": [
    {
     "name": "stdin",
     "output_type": "stream",
     "text": [
      "Enter your score to find Grade :  75\n"
     ]
    },
    {
     "name": "stdout",
     "output_type": "stream",
     "text": [
      "Grade B\n"
     ]
    }
   ],
   "source": [
    "score = int(input(\"Enter your score to find Grade : \"))\n",
    "\n",
    "if score >= 80 :\n",
    "    print(\"Grade A\")\n",
    "elif score <=79 and score > 74:\n",
    "    print(\"Grade B\")    \n",
    "else:\n",
    "    print(\"Grade C\")    "
   ]
  },
  {
   "cell_type": "markdown",
   "id": "b6903217-ed85-489b-a412-c67f037e06bb",
   "metadata": {},
   "source": [
    "# Nested If-Else Statements"
   ]
  },
  {
   "cell_type": "markdown",
   "id": "6b0c2e46-7fbc-46e8-99f2-cb94f9892ae2",
   "metadata": {},
   "source": [
    "## 11)  Write a program to find the largest among three numbers using nested if-else statements."
   ]
  },
  {
   "cell_type": "code",
   "execution_count": 1,
   "id": "ef000378-fa8e-4f60-b564-006affb2a0af",
   "metadata": {},
   "outputs": [
    {
     "name": "stdin",
     "output_type": "stream",
     "text": [
      "Enter value of A : 10\n",
      "Enter value of B : 5\n",
      "Enter value of C : 20\n"
     ]
    },
    {
     "name": "stdout",
     "output_type": "stream",
     "text": [
      "20 is the largest number.\n"
     ]
    }
   ],
   "source": [
    "a = int(input(\"Enter value of A :\"))\n",
    "b = int(input(\"Enter value of B :\"))\n",
    "c = int(input(\"Enter value of C :\"))\n",
    "\n",
    "if a > b:\n",
    "    if a > c:\n",
    "        print(f\"{a} is the largest number.\")\n",
    "    else:\n",
    "        print(f\"{c} is the largest number.\")     \n",
    "        \n",
    "elif b>c:\n",
    "    print(f\"{b} is the largest number.\")    \n",
    "else:\n",
    "    print(f\"{c} is the largest number.\")    "
   ]
  },
  {
   "cell_type": "markdown",
   "id": "4eeeecda-0dda-42ff-991c-30d5f4836c6a",
   "metadata": {},
   "source": [
    "## 12)  Implement a program to determine if a triangle is equilateral, isosceles, or scalene."
   ]
  },
  {
   "cell_type": "markdown",
   "id": "9bac2218-f8a5-418d-82ec-8d4ebbf524bf",
   "metadata": {},
   "source": [
    "### Ans 12)\n",
    "\n",
    "1) A triangle is said to be equilateral, isosceles or scalene if :\n",
    "- 1) equilateral : if all three sides of a triangle are same i.e a = b = c.\n",
    "- 2) isosceles : if any two sides of a triangle are same i.e a = b or b = c or c = a \n",
    "- 1) scalene : if none of the side of a triangle is same i.e a != b != c.\n",
    "\n",
    "#### Steps:\n",
    "- Take three side of a triangle from user.\n",
    "- if all three sides of a triangle are same i.e a = b = c, then triangle is equilaterl.\n",
    "- if any two sides of a triangle are same i.e a = b or b = c or c = a , then triangle is isosceles.\n",
    "- if none of the side of a triangle is same i.e a != b != c, then triangle is scalene."
   ]
  },
  {
   "cell_type": "code",
   "execution_count": 4,
   "id": "0a0aa4fd-b9ce-42bd-8cc8-b9da1f361490",
   "metadata": {},
   "outputs": [
    {
     "name": "stdin",
     "output_type": "stream",
     "text": [
      "Enter first side of triangle :  1\n",
      "Enter second side of triangle :  1\n",
      "Enter third side of triangle :  8\n"
     ]
    },
    {
     "name": "stdout",
     "output_type": "stream",
     "text": [
      "Triangle is Isosceles.\n"
     ]
    }
   ],
   "source": [
    "a = int(input(\"Enter first side of triangle : \"))\n",
    "b = int(input(\"Enter second side of triangle : \"))\n",
    "c = int(input(\"Enter third side of triangle : \"))\n",
    "\n",
    "if a == b == c:\n",
    "    print(\"Triangle is Equilateral.\")\n",
    "elif a == b or b == c or c == a :\n",
    "    print(\"Triangle is Isosceles.\")   \n",
    "elif a !=b != c :\n",
    "    print(\"Triangle is Scalene.\")    \n",
    "    \n",
    "    "
   ]
  },
  {
   "cell_type": "markdown",
   "id": "42b00486-00df-42cf-a6b7-2e50ca7be2b7",
   "metadata": {},
   "source": [
    "## 13)  Develop a program that checks if a year is a leap year and also if it is a century year"
   ]
  },
  {
   "cell_type": "markdown",
   "id": "919b3830-b6b7-44ff-b572-0838c9dd93b4",
   "metadata": {},
   "source": [
    "### Ans 13)\n",
    "\n",
    "1) A year is said to be leap year if a year is multiple of 400.\n",
    "2) A year is said to be century year if it is a multiple of 100.\n",
    "\n",
    "#### Steps:\n",
    "- Take a year from user.\n",
    "- First check the condition for leap year.\n",
    "- 1) if year is divisible by 400 then year is leap year.\n",
    "- Then check the condition for century year.\n",
    "- 1) if year is divisible by 100 then year is century year."
   ]
  },
  {
   "cell_type": "code",
   "execution_count": 5,
   "id": "ba22985c-0d9e-4945-aebe-68a7288dbf59",
   "metadata": {},
   "outputs": [
    {
     "name": "stdin",
     "output_type": "stream",
     "text": [
      "Enter a year :  2000\n"
     ]
    },
    {
     "name": "stdout",
     "output_type": "stream",
     "text": [
      "Given Year is leap year and also a century year.\n"
     ]
    }
   ],
   "source": [
    "year = int(input(\"Enter a year : \"))\n",
    "\n",
    "if year%400 == 0:\n",
    "    # year is leap year, now check for century year.\n",
    "    if year%100 == 0:\n",
    "        print(\"Given Year is leap year and also a century year.\")\n",
    "    else:\n",
    "        print(\"Given Year is leap year but not a century year.\")        \n",
    "    \n",
    "else:\n",
    "    if year%100 == 0:\n",
    "        print(\"Given Year is a century year but not a leap year.\")\n",
    "    else:\n",
    "        print(\"Given Year is neither a leap year nor a century year.\")"
   ]
  },
  {
   "cell_type": "markdown",
   "id": "07a7107f-5b46-464e-864e-715445b8ce41",
   "metadata": {},
   "source": [
    "## 14)  Write a Python script to determine if a number is positive, negative, or zero."
   ]
  },
  {
   "cell_type": "markdown",
   "id": "1c774e33-3cb2-4b5e-ae88-f97338b406bf",
   "metadata": {},
   "source": [
    "### Ans 14)\n",
    "\n",
    "#### Steps:\n",
    "- Take a number from user.\n",
    "- If a number is greater than zero then number is positive.\n",
    "- If a number is less then zero then number is negative.\n",
    "- Else number is zero if it is equal to zero."
   ]
  },
  {
   "cell_type": "code",
   "execution_count": 8,
   "id": "675f54aa-abd7-404b-9fd1-20fed21c0905",
   "metadata": {},
   "outputs": [
    {
     "name": "stdin",
     "output_type": "stream",
     "text": [
      "Enter a number to check whether it is positive , negative or zero : -1\n"
     ]
    },
    {
     "name": "stdout",
     "output_type": "stream",
     "text": [
      "Given number is negative.\n"
     ]
    }
   ],
   "source": [
    "num14 = int(input(\"Enter a number to check whether it is positive , negative or zero :\"))\n",
    "\n",
    "if num14 > 0:\n",
    "    print(\"Given number is positive.\")\n",
    "else:\n",
    "    if num14 < 0:\n",
    "        print(\"Given number is negative.\")\n",
    "    else:\n",
    "        print(\"Given number is zero.\")\n",
    "        "
   ]
  },
  {
   "cell_type": "markdown",
   "id": "5df83c48-74e2-4f3c-beca-ee97c03eb3d5",
   "metadata": {},
   "source": [
    "## 15)  Create a program to check if a person is a teenager (between 13 and 19 years old)."
   ]
  },
  {
   "cell_type": "markdown",
   "id": "2b6b10af-8bd9-4ded-9c3b-09f9695a093d",
   "metadata": {},
   "source": [
    "### Ans 15)\n",
    "\n",
    "#### Steps:\n",
    "- Take age from user.\n",
    "- if age is greater than 12 and less than 20 then person is a teenager.\n",
    "- else person is not a teenager."
   ]
  },
  {
   "cell_type": "code",
   "execution_count": 10,
   "id": "693b0c54-216d-43a2-b07e-fb3852b6e04f",
   "metadata": {},
   "outputs": [
    {
     "name": "stdin",
     "output_type": "stream",
     "text": [
      "Enter age of a person to check person is teenager or not :  15\n"
     ]
    },
    {
     "name": "stdout",
     "output_type": "stream",
     "text": [
      "Person is a teenager.\n"
     ]
    }
   ],
   "source": [
    "age = int(input(\"Enter age of a person to check person is teenager or not : \"))\n",
    "\n",
    "if age > 12 :\n",
    "    if age < 20:\n",
    "        print(\"Person is a teenager.\")\n",
    "    else:\n",
    "        print(\"Person is not a teenager.\") \n",
    "        \n",
    "else:\n",
    "    print(\"Person is not a teenager.\")            "
   ]
  },
  {
   "cell_type": "markdown",
   "id": "291a805b-5680-4b88-af51-f6fa95442070",
   "metadata": {},
   "source": [
    "## 16)  Develop a program that determines the type of angle based on its measure (acute, obtuse, or right)."
   ]
  },
  {
   "cell_type": "markdown",
   "id": "c1352233-3dab-4940-a4af-848738cff876",
   "metadata": {},
   "source": [
    "### Ans 16) \n",
    "\n",
    "1) Acute angle : Angle less than 90 degree.\n",
    "2) Right angle : Angle Equal to 90 degree.\n",
    "3) Obtuse angle : Angle greater than 90 degree.\n",
    "\n",
    "#### Steps:\n",
    "- Take an angle from user.\n",
    "- check the above mentioned condition for angle and return its type."
   ]
  },
  {
   "cell_type": "code",
   "execution_count": 13,
   "id": "acb825c2-f7b1-4cff-b928-bfe69d81a15a",
   "metadata": {},
   "outputs": [
    {
     "name": "stdin",
     "output_type": "stream",
     "text": [
      "Enter an angle to check its type:  100\n"
     ]
    },
    {
     "name": "stdout",
     "output_type": "stream",
     "text": [
      "Angle is Obtuse angle.\n"
     ]
    }
   ],
   "source": [
    "angle = int(input(\"Enter an angle to check its type: \"))\n",
    "\n",
    "if angle < 90:\n",
    "    print(\"Angle is Acute angle.\")\n",
    "else:\n",
    "    if angle > 90:\n",
    "        print(\"Angle is Obtuse angle.\")\n",
    "    else:\n",
    "        print(\"Angle is Right angle.\")"
   ]
  },
  {
   "cell_type": "markdown",
   "id": "eaf8d85a-7801-4db3-8d09-4b1346c812d2",
   "metadata": {},
   "source": [
    "## 17)  Write a Python program to calculate the roots of a quadratic equation."
   ]
  },
  {
   "cell_type": "markdown",
   "id": "5803441f-46ac-4c13-aa6b-13873c0401cd",
   "metadata": {},
   "source": [
    "### Ans 17) \n",
    "\n",
    "1) An equation of the form ax2 + bx + c = 0 is referred to as a quadratic equation.\n",
    "2) The values of x, which satisfy the quadratic equation, are known as the roots of the quadratic equation.\n",
    "3) formula to calculate the roots:\n",
    "- Root 1 : x1 = (-b + (b*b-4*a*c)**0.5)/2*a\n",
    "- Root 1 : x2 = (-b - (b*b-4*a*c)**0.5)/2*a\n",
    "\n",
    "#### Steps:\n",
    "- Take values of coefficient of quadractic equation from user.\n",
    "- Use the formula to calculate the roots.\n",
    "- print the roots of equation."
   ]
  },
  {
   "cell_type": "code",
   "execution_count": 23,
   "id": "0dd607bb-573c-44c4-8bf7-b23ab7bebe94",
   "metadata": {},
   "outputs": [
    {
     "name": "stdout",
     "output_type": "stream",
     "text": [
      "Quadratic equation : ax2 + bx + c = 0\n"
     ]
    },
    {
     "name": "stdin",
     "output_type": "stream",
     "text": [
      "Enter value of a :  1\n",
      "Enter value of b :  2\n",
      "Enter value of c :  -3\n"
     ]
    },
    {
     "name": "stdout",
     "output_type": "stream",
     "text": [
      "Roots of the equation  :  (1.0, -3.0)\n"
     ]
    }
   ],
   "source": [
    "print(\"Quadratic equation : ax2 + bx + c = 0\")\n",
    "\n",
    "a = int(input(\"Enter value of a : \"))\n",
    "b = int(input(\"Enter value of b : \"))\n",
    "c = int(input(\"Enter value of c : \"))\n",
    "\n",
    "\n",
    "x1 = (-b + (b*b-4*a*c)**0.5)/2*a\n",
    "x2 = (-b - (b*b-4*a*c)**0.5)/2*a\n",
    "\n",
    "root = (x1,x2)\n",
    "\n",
    "print(\"Roots of the equation  : \",root)"
   ]
  },
  {
   "cell_type": "markdown",
   "id": "c818a2cb-c097-41a2-95a3-3113daa28420",
   "metadata": {},
   "source": [
    "## 18) Implement a program to determine the day of the week based on a user-provided number (1 for Monday, 2 for Tuesday, etc.)."
   ]
  },
  {
   "cell_type": "markdown",
   "id": "663f99ef-a802-4412-904f-ea69845908df",
   "metadata": {},
   "source": [
    "### Ans 18) \n",
    "\n",
    "1) Week days : {1:'Monday',2:'Tuesday',3:'Wednesday',4:'Thursday',5:'Friday',6:'Saturday',7:'Sunday',}\n",
    "\n",
    "#### Steps:\n",
    "- Take a number from user.\n",
    "- Number should be greater than 1 and less than 13.\n",
    "- Check the day accordingly and print it."
   ]
  },
  {
   "cell_type": "code",
   "execution_count": 30,
   "id": "5c243b70-7122-4837-a832-96a465d0fb9d",
   "metadata": {},
   "outputs": [
    {
     "name": "stdin",
     "output_type": "stream",
     "text": [
      "Enter a number to determine the day of the week :  5\n"
     ]
    },
    {
     "name": "stdout",
     "output_type": "stream",
     "text": [
      "Day is Friday\n"
     ]
    }
   ],
   "source": [
    "day18 = int(input(\"Enter a number to determine the day of the week : \"))\n",
    "\n",
    "if day18 > 0 and day18 < 8:\n",
    "    if day18 == 1:\n",
    "        print(\"Day is Monday\")\n",
    "    elif day18 == 2:\n",
    "        print(\"Day is Tuesday\")\n",
    "    elif day18 == 3:\n",
    "        print(\"Day is Wednesday\")\n",
    "    elif day18 == 4:\n",
    "        print(\"Day is Thursday\")\n",
    "    elif day18 == 5:\n",
    "        print(\"Day is Friday\")\n",
    "    elif day18 == 6:\n",
    "        print(\"Day is Saturday\")\n",
    "    else :\n",
    "        print(\"Day is Sunday\")\n",
    "        \n",
    "else:\n",
    "    print(\"Enter a valid number.\")"
   ]
  },
  {
   "cell_type": "markdown",
   "id": "0fff22d6-85e2-4b49-9791-dd5898e944ea",
   "metadata": {},
   "source": [
    "## 19)  Create a program that determines if a year is a leap year and also if it is evenly divisible by 400."
   ]
  },
  {
   "cell_type": "markdown",
   "id": "90fbd7f5-b977-4696-af1f-bcca701c0219",
   "metadata": {},
   "source": [
    "### Ans 19)\n",
    "\n",
    "1) A year is said to be leap year if a year is multiple of 400.\n",
    "\n",
    "#### Steps:\n",
    "- Take a year from user.\n",
    "- First check the condition for leap year.\n",
    "- 1) if year is divisible by 400 then year is leap year.\n",
    "- Then check the condition for century year.\n",
    "- 1) if year is divisible by 100 then year is century year."
   ]
  },
  {
   "cell_type": "code",
   "execution_count": 6,
   "id": "5c758685-2a2e-4d44-8196-c1e910e4e40d",
   "metadata": {},
   "outputs": [
    {
     "name": "stdin",
     "output_type": "stream",
     "text": [
      "Enter a year :  2000\n"
     ]
    },
    {
     "name": "stdout",
     "output_type": "stream",
     "text": [
      "Given Year is evenly divisble by 400 but not a leap year.\n"
     ]
    }
   ],
   "source": [
    "year = int(input(\"Enter a year : \"))\n",
    "\n",
    "if (year%4 == 0) and (year%100 != 0) :\n",
    "    # year is leap year, now check for century year.\n",
    "    if year%400 == 0:\n",
    "        print(\"Given Year is leap year and also it is evenly divisble by 400.\")\n",
    "    else:\n",
    "        print(\"Given Year is leap year but it is not evenly divisble by 400.\")        \n",
    "    \n",
    "else:\n",
    "    if year%400 == 0:\n",
    "        print(\"Given Year is evenly divisble by 400 but not a leap year.\")\n",
    "    else:\n",
    "        print(\"Given Year is neither a leap year nor evenly divisble by 400.\")"
   ]
  },
  {
   "cell_type": "markdown",
   "id": "b0188ee0-d737-4267-a6a5-5b68f6c88213",
   "metadata": {},
   "source": [
    "## 20)  Develop a program that checks if a given number is prime or not using nested if-else statements."
   ]
  },
  {
   "cell_type": "markdown",
   "id": "865be289-e351-46e3-b4fe-617b34b8c02a",
   "metadata": {},
   "source": [
    "### Ans 20)\n",
    "\n",
    "1) A year is said to be leap year if a year is multiple of 400.\n",
    "\n",
    "#### Steps:\n",
    "- Take a year from user.\n",
    "- First check the condition for leap year.\n",
    "- 1) if year is divisible by 400 then year is leap year.\n",
    "- Then check the condition for century year.\n",
    "- 1) if year is divisible by 100 then year is century year."
   ]
  },
  {
   "cell_type": "code",
   "execution_count": 10,
   "id": "8a79c384-ecc0-4f4f-85f9-6bea84c756cc",
   "metadata": {},
   "outputs": [
    {
     "name": "stdin",
     "output_type": "stream",
     "text": [
      "Enter a number to check whether it is prime or not :  15\n"
     ]
    },
    {
     "name": "stdout",
     "output_type": "stream",
     "text": [
      "Number is not a prime number\n"
     ]
    }
   ],
   "source": [
    "inp_num20 = int(input(\"Enter a number to check whether it is prime or not : \"))\n",
    "\n",
    "def check_prime_num(num20):\n",
    "    if num20 > 0 :\n",
    "        if num20 == 1:\n",
    "            return print(\"Number is not a prime number.\")\n",
    "        elif num20 == 2:\n",
    "            return print(\"Number is a prime number.\")\n",
    "        else:\n",
    "            for i in range(2,num20):\n",
    "                if num20 % i == 0:\n",
    "                    return print(\"Number is not a prime number\")\n",
    "            return print(\"Number is a prime number\")  \n",
    "\n",
    "    else:\n",
    "        return print(\"Enter a number greater than zero.\")\n",
    "\n",
    "check_prime_num(inp_num20)"
   ]
  },
  {
   "cell_type": "markdown",
   "id": "fb77b77c-e0f2-41e9-af45-ac3113aaf048",
   "metadata": {},
   "source": [
    "# Elif Statements:"
   ]
  },
  {
   "cell_type": "markdown",
   "id": "eea935d5-dae0-4f2b-bb8f-8beec5715799",
   "metadata": {},
   "source": [
    "## 21)  Write a Python program to assign grades based on different ranges of scores using elif statements."
   ]
  },
  {
   "cell_type": "markdown",
   "id": "8c3f92a1-1bc4-4a21-8674-d10ca3099287",
   "metadata": {},
   "source": [
    "### Ans 21)\n",
    "\n",
    "#### Steps:\n",
    "- Take student's score from user.\n",
    "- Create three range :\n",
    "- 1) Grade A : >= 90 - 80 marks\n",
    "- 2) Grade B : 75 - 80 marks\n",
    "- 3) Grade C : below 75 marks\n",
    "- Return the grade according to the score range."
   ]
  },
  {
   "cell_type": "code",
   "execution_count": 27,
   "id": "87e973a9-549f-4854-aabc-e4a04b6b38c0",
   "metadata": {},
   "outputs": [
    {
     "name": "stdin",
     "output_type": "stream",
     "text": [
      "Enter your score to find Grade :  90\n"
     ]
    },
    {
     "name": "stdout",
     "output_type": "stream",
     "text": [
      "Grade A\n"
     ]
    }
   ],
   "source": [
    "score = int(input(\"Enter your score to find Grade : \"))\n",
    "\n",
    "if score >= 80 :\n",
    "    print(\"Grade A\")\n",
    "elif score <=79 and score > 74:\n",
    "    print(\"Grade B\")    \n",
    "else:\n",
    "    print(\"Grade C\")    "
   ]
  },
  {
   "cell_type": "markdown",
   "id": "3cb367b4-3c3b-462e-b2b0-0a5a5d9fe87c",
   "metadata": {},
   "source": [
    "## 22) Implement a program to determine the type of a triangle based on its angles"
   ]
  },
  {
   "cell_type": "markdown",
   "id": "aaa8abdf-76ae-4c69-a6c0-c29bfe878979",
   "metadata": {},
   "source": [
    "### Ans 22) \n",
    "\n",
    "1) Acute angle : Angle less than 90 degree.\n",
    "2) Right angle : Angle Equal to 90 degree.\n",
    "3) Obtuse angle : Angle greater than 90 degree.\n",
    "\n",
    "#### Steps:\n",
    "- Take an angle from user.\n",
    "- check the above mentioned condition for angle and return its type."
   ]
  },
  {
   "cell_type": "code",
   "execution_count": 28,
   "id": "7ad5739c-b778-4ffe-8658-fbd316b171a1",
   "metadata": {},
   "outputs": [
    {
     "name": "stdin",
     "output_type": "stream",
     "text": [
      "Enter an angle to check its type:  90\n"
     ]
    },
    {
     "name": "stdout",
     "output_type": "stream",
     "text": [
      "Angle is Right angle.\n"
     ]
    }
   ],
   "source": [
    "angle = int(input(\"Enter an angle to check its type: \"))\n",
    "\n",
    "if angle < 90:\n",
    "    print(\"Angle is Acute angle.\")\n",
    "elif angle > 90:\n",
    "    print(\"Angle is Obtuse angle.\")\n",
    "else:\n",
    "    print(\"Angle is Right angle.\")"
   ]
  },
  {
   "cell_type": "markdown",
   "id": "c5b61a93-c20e-4bf5-82b4-cd944f18d210",
   "metadata": {},
   "source": [
    "## 23)  Develop a program to categorize a given person's BMI into underweight, normal, overweight, or obese using elif statements."
   ]
  },
  {
   "cell_type": "markdown",
   "id": "a7bef26e-2163-4588-a052-ff930b027ff5",
   "metadata": {},
   "source": [
    "### Ans 23)\n",
    "\n",
    "1) Body Mass Index (BMI)\n",
    "2) Formula : BMI = (weight (kg)/ height sqaure(m2))\n",
    "3) Categorization of BMI : \n",
    "- Below  18.5\t ; Underweight\n",
    "- 18.5 – 24.9\t ; Healthy Weight (normal)\n",
    "- 25.0 – 29.9\t ; Overweight\n",
    "- 30.0 and Above ; Obesity\n",
    "\n",
    "#### Steps:\n",
    "- Take weight in kg and height in meter from user.\n",
    "- Put the values in formula and find the BMI.\n",
    "- check which category it belogs to and print it."
   ]
  },
  {
   "cell_type": "code",
   "execution_count": 37,
   "id": "aef2fdbd-8618-49a7-be2b-637219a42cec",
   "metadata": {},
   "outputs": [
    {
     "name": "stdin",
     "output_type": "stream",
     "text": [
      "Enter your weight in kg :  60\n",
      "Enter your height in meter :  1.52\n"
     ]
    },
    {
     "name": "stdout",
     "output_type": "stream",
     "text": [
      "You are overweight as your BMI is :  25.969529085872576\n"
     ]
    }
   ],
   "source": [
    "weight = float(input(\"Enter your weight in kg : \"))\n",
    "height = float(input(\"Enter your height in meter : \"))\n",
    "\n",
    "BMI = (weight / (height*height))\n",
    "\n",
    "if BMI < 18.5:\n",
    "    print(\"You are underweight as your BMI is : \",BMI)\n",
    "elif BMI >= 18.5 and BMI <= 24.9:\n",
    "    print(\"Your weight normal as your BMI is : \",BMI)\n",
    "elif BMI >= 25.0 and BMI <= 29.9:\n",
    "    print(\"You are overweight as your BMI is : \",BMI)\n",
    "else:\n",
    "    print(\"You are Obese as your BMI is : \",BMI)\n",
    "    "
   ]
  },
  {
   "cell_type": "markdown",
   "id": "260f2748-c504-4213-bf37-54edd19fbab9",
   "metadata": {},
   "source": [
    "## 24)  Create a program that determines whether a given number is positive, negative, or zero using elif statements."
   ]
  },
  {
   "cell_type": "markdown",
   "id": "a02fe121-66b3-4832-b824-58e777ce3201",
   "metadata": {},
   "source": [
    "### Ans 24)\n",
    "\n",
    "#### Steps:\n",
    "- Take a number from user.\n",
    "- If a number is greater than zero then number is positive.\n",
    "- If a number is less then zero then number is negative.\n",
    "- Else number is zero if it is equal to zero."
   ]
  },
  {
   "cell_type": "code",
   "execution_count": 29,
   "id": "32dd3563-baaa-460d-a935-11b19bdde4a2",
   "metadata": {},
   "outputs": [
    {
     "name": "stdin",
     "output_type": "stream",
     "text": [
      "Enter a number to check whether it is positive , negative or zero : 0\n"
     ]
    },
    {
     "name": "stdout",
     "output_type": "stream",
     "text": [
      "Given number is zero.\n"
     ]
    }
   ],
   "source": [
    "num14 = int(input(\"Enter a number to check whether it is positive , negative or zero :\"))\n",
    "\n",
    "if num14 > 0:\n",
    "    print(\"Given number is positive.\")\n",
    "\n",
    "elif num14 < 0:\n",
    "    print(\"Given number is negative.\")\n",
    "else:\n",
    "    print(\"Given number is zero.\")\n",
    "        "
   ]
  },
  {
   "cell_type": "markdown",
   "id": "75e4db27-ff22-451e-8776-ec096e65033c",
   "metadata": {
    "tags": []
   },
   "source": [
    "## 25) Write a Python script to determine the type of a character (uppercase, lowercase, or special) using elif statements"
   ]
  },
  {
   "cell_type": "markdown",
   "id": "c6d9ea35-5c4d-4265-b897-9ce67bf9850b",
   "metadata": {},
   "source": [
    "### Ans 25)\n",
    "\n",
    "#### Steps:\n",
    "- Take a character from user.\n",
    "- By using islower and isupper() function check whether character is lower or uppercase.\n",
    "- If both conditions are false then character is special."
   ]
  },
  {
   "cell_type": "code",
   "execution_count": 41,
   "id": "079f3b90-1636-4eca-95cd-f623cf085054",
   "metadata": {},
   "outputs": [
    {
     "name": "stdin",
     "output_type": "stream",
     "text": [
      "Enter any character:  ~\n"
     ]
    },
    {
     "name": "stdout",
     "output_type": "stream",
     "text": [
      "Character is special.\n"
     ]
    }
   ],
   "source": [
    "char25 = input(\"Enter any character: \")\n",
    "\n",
    "if char25.islower() :\n",
    "    print(\"Character is lowercase.\")\n",
    "elif char25.isupper():\n",
    "    print(\"Character is uppercase.\")\n",
    "else:\n",
    "    print(\"Character is special.\")"
   ]
  },
  {
   "cell_type": "markdown",
   "id": "a84d87b1-2155-46da-b882-be8bfb2163fe",
   "metadata": {},
   "source": [
    "## 26)  Implement a program to calculate the discounted price based on different purchase amounts using elif statements."
   ]
  },
  {
   "cell_type": "markdown",
   "id": "e04b593d-38ea-4980-a9af-1ca177a48c57",
   "metadata": {},
   "source": [
    "### Ans 26)\n",
    "\n",
    "1) Let's say, If purchase amount is less than 500Rs then no discount.\n",
    "2) If purchase amount is in between 500Rs-1000Rs, give the discount of 5%.\n",
    "3) If purchase amount is in between 1000Rs-2000Rs, give the discount of 10%.\n",
    "4) If purchase amount is equal to or more than 2000, give the discount of 20%.\n",
    "\n",
    "#### Steps:\n",
    "- Take the purchase amount from user.\n",
    "- Check the above mentioned condition for amount, take the actions accordingly.\n",
    "- Display the purchase amount, discount amount, and net amount."
   ]
  },
  {
   "cell_type": "code",
   "execution_count": 6,
   "id": "8208ad7d-1af7-4d30-adde-55cd311f616b",
   "metadata": {},
   "outputs": [
    {
     "name": "stdin",
     "output_type": "stream",
     "text": [
      "Enter the purchase amount to calculate the diccounted price on it :  2000\n"
     ]
    },
    {
     "name": "stdout",
     "output_type": "stream",
     "text": [
      "Entered Purchese Amount :  2000Rs.\n",
      "Discounted Amount :  400.0Rs.\n",
      "Net Amount :  1600.0Rs.\n"
     ]
    }
   ],
   "source": [
    "amount26 = int(input(\"Enter the purchase amount to calculate the diccounted price on it : \"))\n",
    "\n",
    "if amount26 < 500 :\n",
    "    discount_price = 0\n",
    "elif amount26 >= 500 and amount26 < 1000 :\n",
    "    # give 5% discount : \n",
    "    discount_price = (amount26 * 0.05)\n",
    "elif amount26 >= 1000 and amount26 < 2000 :\n",
    "    # give 10% discount : \n",
    "    discount_price = (amount26 * 0.1)\n",
    "else:\n",
    "    # give 20% discount for money 2000 or more: \n",
    "    discount_price = (amount26 * 0.2)\n",
    "    \n",
    "    \n",
    "print(f\"Entered Purchese Amount :  {amount26}Rs.\\nDiscounted Amount :  {discount_price}Rs.\\nNet Amount :  {amount26 - discount_price}Rs.\")\n",
    "\n",
    "    \n",
    "    \n"
   ]
  },
  {
   "cell_type": "markdown",
   "id": "b19ef4dc-5a3a-41b8-9de9-d686eea88cd9",
   "metadata": {},
   "source": [
    "## 27)  Develop a program to calculate the electricity bill based on different consumption slabs using elif statements"
   ]
  },
  {
   "cell_type": "markdown",
   "id": "f5d916c9-e56e-4014-a9f9-0c2e860ad501",
   "metadata": {},
   "source": [
    "### Ans 27)\n",
    "\n",
    "1) Let's say following are the different charges per unit for different consumption units : \n",
    "-  Rs 10 / unit ; for unit range 1-100.\n",
    "-  Rs 15 / unit ; for unit range 100-200.\n",
    "-  Rs 20 / unit ; for unit range 200-300.\n",
    "-  Rs 30 / unit ; for units above 300.\n",
    "\n",
    "#### Steps:\n",
    "- Take the consumption units from user.\n",
    "- Check in which range units lie, calculate the bill accordingly and display it.\n",
    "- 1) If the units are equal to or less than 100 then directly mulply it by 10Rs.\n",
    "- 2) If the units are equal to or less than 200 then first apply the charges 10Rs for 100 unit and 15Rs for rest of the units.\n",
    "- 3) If the units are equal to or less than 300 then first apply the charges 10Rs for first 100 unit then 15Rs for 101 to 200 units and 20Rs for rest of the units.\n",
    "- 4) If the units are more than 300 then first apply the charges 10Rs for first 100 unit then 15Rs for 101 to 200 units and 20Rs for 201 to 300 units and 25Rs for rest of the units."
   ]
  },
  {
   "cell_type": "code",
   "execution_count": 11,
   "id": "0dac9478-ed34-4e70-8a37-876c922f6b8e",
   "metadata": {},
   "outputs": [
    {
     "name": "stdin",
     "output_type": "stream",
     "text": [
      "Enter the consumption units to calculate the electricity bill :  150\n"
     ]
    },
    {
     "name": "stdout",
     "output_type": "stream",
     "text": [
      "Entered Consumption units: 150\n",
      "Electricity bill : 1750\n"
     ]
    }
   ],
   "source": [
    "units27 = int(input(\"Enter the consumption units to calculate the electricity bill : \"))\n",
    "\n",
    "if units27 <=100:\n",
    "    bill = 10 * units27\n",
    "    # condition for units equal or less than 200\n",
    "elif units27 <= 200:\n",
    "    bill = (10 * 100) + (15 * (units27 - 100))\n",
    "    # condition for units equal or less than 300\n",
    "elif units27 <= 300:\n",
    "    bill = (10 * 100) + (15 * 100) + (20 * (units27 - 200))\n",
    "    # condition for units more than 300\n",
    "else:\n",
    "    bill = (10 * 100) + (15 * 100) + (20 * 100) + (25 * (units27 - 300))\n",
    "    \n",
    "print(f\"Entered Consumption units: {units27}\\nElectricity bill : {bill}\")"
   ]
  },
  {
   "cell_type": "markdown",
   "id": "3322a38e-b577-4d46-add2-bd3f1418ef67",
   "metadata": {},
   "source": [
    "## 28) . Create a program to determine the type of quadrilateral based on its angles and sides using elif statements"
   ]
  },
  {
   "cell_type": "markdown",
   "id": "f392d99c-55a3-4984-a991-643cd426d3d7",
   "metadata": {},
   "source": [
    "### Ans 28)\n",
    "\n",
    "- Note: Quadrilateral  :  A four sided figure in which sum of all the 4 angles equals to 360 degree.\n",
    "- 1) Square : When all 4 sides (A,B,C,D) are equal and all 4 angles are 90 degree.\n",
    "- 2) Rectangle : When opposite sides are equal (A=C AND B=D) and all 4 angles are 90 degree.\n",
    "- 3) Rhombus : When all 4 sides (A,B,C,D) are equal but angles are different.\n",
    "- 4) Parallelogram : When opposite sides are equal (A=C AND B=D) but angles are different.\n",
    "- 5) Trapezoid : When any 2 sides (any two sides are parallel) i.e(A=C OR B=D)\n",
    "- 6) Kite: Two pair of adjacent side always be equal, i.e((A=B AND D=C) OR (A=D AND B=C) OR (A=D OR B=C) OR (B=C AND A=D))\n",
    "\n",
    "\n",
    "#### Steps:\n",
    "- Take 4 sides (A,B,C,D) and 4 angles (A1,A2,A3,A4) from user.\n",
    "- Check for the above conditions to identify the quadrilateral and display its type accordingly.\n"
   ]
  },
  {
   "cell_type": "code",
   "execution_count": 18,
   "id": "e2699fc0-bbd5-4ef6-acde-e09827080109",
   "metadata": {},
   "outputs": [
    {
     "name": "stdout",
     "output_type": "stream",
     "text": [
      "Consider a quadrilateral of 4 sides A,B,C and D, Enter the values accordingly.\n"
     ]
    },
    {
     "name": "stdin",
     "output_type": "stream",
     "text": [
      "Enter side A :  2\n",
      "Enter side B :  2\n",
      "Enter side C :  2\n",
      "Enter side D :  2\n"
     ]
    },
    {
     "name": "stdout",
     "output_type": "stream",
     "text": [
      "\n",
      "Enter the angles : \n"
     ]
    },
    {
     "name": "stdin",
     "output_type": "stream",
     "text": [
      "Enter angle 1 : 90\n",
      "Enter angle 2 : 90\n",
      "Enter angle 3 : 90\n",
      "Enter angle 4 : 90\n"
     ]
    },
    {
     "name": "stdout",
     "output_type": "stream",
     "text": [
      "Type of Quadrilateral is : Square.\n"
     ]
    }
   ],
   "source": [
    "print(\"Consider a quadrilateral of 4 sides A,B,C and D, Enter the values accordingly.\")\n",
    "A = float(input(\"Enter side A : \"))\n",
    "B = float(input(\"Enter side B : \"))\n",
    "C = float(input(\"Enter side C : \"))\n",
    "D = float(input(\"Enter side D : \"))\n",
    "\n",
    "print(\"\\nEnter the angles : \")\n",
    "A1 = int(input(\"Enter angle 1 :\"))\n",
    "A2 = int(input(\"Enter angle 2 :\"))\n",
    "A3 = int(input(\"Enter angle 3 :\"))\n",
    "A4 = int(input(\"Enter angle 4 :\"))\n",
    "\n",
    "\n",
    "if (A==B==C==D) and (A1==A2==A3==A4==90):\n",
    "    print(\"Type of Quadrilateral is : Square.\")\n",
    "elif (A==C) and (B==D) and (A1==A2==A3==A4==90):\n",
    "    print(\"Type of Quadrilateral is : Rectangle.\")\n",
    "elif (A==B==C==D) and (A1!=A2!=A3!=A4):\n",
    "    print(\"Type of Quadrilateral is : Rhombus.\")\n",
    "elif (A==C) and (B==D) and (A1!=A2!=A3!=A4):\n",
    "    print(\"Type of Quadrilateral is : Parallelogram.\")\n",
    "elif (A==B) and (C==D):\n",
    "    print(\"Type of Quadrilateral is : Kite.\")\n",
    "else:\n",
    "    print(\"Enter valid sides or angles.\")"
   ]
  },
  {
   "cell_type": "markdown",
   "id": "5005bf89-95e2-48f6-9a34-bb6c478f493c",
   "metadata": {},
   "source": [
    "## 29)  Write a Python script to determine the season based on a user-provided month using elif statements."
   ]
  },
  {
   "cell_type": "markdown",
   "id": "2fad1244-0fdd-4434-8526-6c2d4f4b955d",
   "metadata": {},
   "source": [
    "### Ans 29) \n",
    "\n",
    "1) Following are the seasons:\n",
    "2) Season\tStart date\t End date\n",
    "- Winter\t1 November \t31 January\n",
    "- Spring\t1 February \t30 April\n",
    "- Summer\t1 May \t    31 July\n",
    "- Autumn\t1 August \t31 October \n",
    "\n",
    "#### Steps:\n",
    "- Take a month from user.\n",
    "- Check, given month lie in which season , return the month name accordingly."
   ]
  },
  {
   "cell_type": "code",
   "execution_count": 2,
   "id": "e4dbe511-573f-4aa8-be39-28793eb8a719",
   "metadata": {},
   "outputs": [
    {
     "name": "stdin",
     "output_type": "stream",
     "text": [
      "Enter month name to determine the season :  august\n"
     ]
    },
    {
     "name": "stdout",
     "output_type": "stream",
     "text": [
      "Autumn Season.\n"
     ]
    }
   ],
   "source": [
    "month29 = input(\"Enter month name to determine the season : \")\n",
    "month29 = month29.lower()\n",
    "if month29 == 'november' or month29 == 'january':\n",
    "    print(\"Winter Season.\")\n",
    "elif month29 == 'february' or month29 == 'april':\n",
    "    print(\"Spring Season.\")\n",
    "elif month29 == 'may' or month29 == 'july':\n",
    "    print(\"Summer Season.\")\n",
    "elif month29 == 'august' or month29 == 'october':\n",
    "    print(\"Autumn Season.\")\n",
    "else:\n",
    "    print(\"Enter a valid month.\")"
   ]
  },
  {
   "cell_type": "markdown",
   "id": "0a486d12-a62d-4295-9cf2-7c11f24ef96f",
   "metadata": {},
   "source": [
    "## 30)  Implement a program to determine the type of a year (leap or common) and month (30 or 31 days) using elif statements."
   ]
  },
  {
   "cell_type": "markdown",
   "id": "5ec7d145-b8d1-40aa-b480-2d43e848b04b",
   "metadata": {
    "tags": []
   },
   "source": [
    "### Ans 30)\n",
    "\n",
    "1) A year is said to be leap year if it satisfy the following conditions are satisfied:\n",
    "- i) The Year is a multiple of 400.\n",
    "- ii) The Year is a multiple of 4 and not a multiple of 100.\n",
    "\n",
    "#### Steps:\n",
    "- Take the year from user .\n",
    "- Take modulo division of the year with 400, if it is zero then year is multiple of 400.\n",
    "- Or take modulo division of the year with 4 , if it is zero and modulo division with 100 is not zero, then year is multiple of 4 and not a multiple of 100."
   ]
  },
  {
   "cell_type": "code",
   "execution_count": 32,
   "id": "57fecad5-5567-422c-947d-5da72a133d5d",
   "metadata": {},
   "outputs": [
    {
     "name": "stdin",
     "output_type": "stream",
     "text": [
      "Enter a year to check whether it is leap year or common year :  2000\n",
      "Enter a month to check whether it is a month of 30 days or 31 days :  february\n"
     ]
    },
    {
     "name": "stdout",
     "output_type": "stream",
     "text": [
      "The year is leap year.\n",
      "february is a month of 29 days. For year :  2000\n"
     ]
    }
   ],
   "source": [
    "year = int(input(\"Enter a year to check whether it is leap year or common year : \"))\n",
    "month = input(\"Enter a month to check whether it is a month of 30 days or 31 days : \")\n",
    "\n",
    "# check year :\n",
    "if (year%400 ==0) or (year%4==0 and year%100!=0):\n",
    "    print(\"The year is leap year.\")\n",
    "else:\n",
    "    print(\"The year is a common year.\")   \n",
    "    \n",
    "# check month :\n",
    "if month.lower() == 'january':\n",
    "    print(\"January is a month of 31 days.\")\n",
    "elif month.lower() == 'february':\n",
    "    if (year%400 ==0) or (year%4==0 and year%100!=0):\n",
    "        print(\"february is a month of 29 days. For year : \",year)\n",
    "    else:\n",
    "        print(\"february is a month of 28 days. For year : \",year)\n",
    "elif month.lower() == 'march':\n",
    "    print(\"march is a month of 31 days.\")\n",
    "elif month.lower() == 'april':\n",
    "    print(\"april is a month of 30 days.\")\n",
    "elif month.lower() == 'may':\n",
    "    print(\"may is a month of 31 days.\") \n",
    "elif month.lower() == 'june':\n",
    "    print(\"june is a month of 30 days.\")\n",
    "elif month.lower() == 'july':\n",
    "    print(\"july is a month of 31 days.\")\n",
    "elif month.lower() == 'august':\n",
    "    print(\"august is a month of 31 days.\")\n",
    "elif month.lower() == 'september':\n",
    "    print(\"september is a month of 30 days.\")\n",
    "elif month.lower() == 'october':\n",
    "    print(\"october is a month of 31 days.\")\n",
    "elif month.lower() == 'november':\n",
    "    print(\"november is a month of 30 days.\")\n",
    "elif month.lower() == 'december':\n",
    "    print(\"december is a month of 31 days.\")\n",
    "else:\n",
    "    print(\"Enter a valid month.\")"
   ]
  },
  {
   "cell_type": "markdown",
   "id": "b4a766ec-3f10-4fe2-8a9e-33c82eca195d",
   "metadata": {},
   "source": [
    "# Basic Level:"
   ]
  },
  {
   "cell_type": "markdown",
   "id": "fa7a5ad1-4f17-49c7-adee-c9c00d8d8cd5",
   "metadata": {},
   "source": [
    "## 1)  Write a Python program that checks if a given number is positive, negative, or zero"
   ]
  },
  {
   "cell_type": "markdown",
   "id": "1e44d882-a7a2-4f87-a0c6-07d58ef5e959",
   "metadata": {},
   "source": [
    "### Ans 1)\n",
    "\n",
    "#### Steps:\n",
    "- Take a number from user.\n",
    "- If a number is greater than zero then number is positive.\n",
    "- If a number is less then zero then number is negative.\n",
    "- Else number is zero if it is equal to zero."
   ]
  },
  {
   "cell_type": "code",
   "execution_count": 1,
   "id": "f19a6e67-0ace-4a9d-a04e-ed67c89909a5",
   "metadata": {},
   "outputs": [
    {
     "name": "stdin",
     "output_type": "stream",
     "text": [
      "Enter a number to check whether it is positive , negative or zero : -10\n"
     ]
    },
    {
     "name": "stdout",
     "output_type": "stream",
     "text": [
      "Given number is negative.\n"
     ]
    }
   ],
   "source": [
    "num1 = int(input(\"Enter a number to check whether it is positive , negative or zero :\"))\n",
    "\n",
    "if num1 > 0:\n",
    "    print(\"Given number is positive.\")\n",
    "else:\n",
    "    if num1 < 0:\n",
    "        print(\"Given number is negative.\")\n",
    "    else:\n",
    "        print(\"Given number is zero.\")\n",
    "        "
   ]
  },
  {
   "cell_type": "markdown",
   "id": "2b36a19a-6162-489d-9da8-2dfa96409d01",
   "metadata": {},
   "source": [
    "## 2)  Create a program to determine if a person is eligible to vote based on their age"
   ]
  },
  {
   "cell_type": "markdown",
   "id": "f98abd0e-5484-4c59-8e0f-a4c765ac9461",
   "metadata": {},
   "source": [
    "### Ans 2)\n",
    "\n",
    "#### Steps:\n",
    "- Take age as an input from user.\n",
    "- If the age is greater than or equal to 18 then person is eligible to vote, else person is not eligible to vote."
   ]
  },
  {
   "cell_type": "code",
   "execution_count": 2,
   "id": "6282ea20-1a5e-4784-ad59-4c1632deacb8",
   "metadata": {},
   "outputs": [
    {
     "name": "stdin",
     "output_type": "stream",
     "text": [
      "Enter your age to check whether you are eligible to vote or not :  15\n"
     ]
    },
    {
     "name": "stdout",
     "output_type": "stream",
     "text": [
      "Person/You are not eligible to vote.\n"
     ]
    }
   ],
   "source": [
    "age2 = int(input(\"Enter your age to check whether you are eligible to vote or not : \"))\n",
    "\n",
    "if age2 >= 18 :\n",
    "    print(\"Person/You are eligible to vote.\")\n",
    "else:\n",
    "    print(\"Person/You are not eligible to vote.\")    "
   ]
  },
  {
   "cell_type": "markdown",
   "id": "849c0295-d9b5-4373-ae21-dcaa0b022f18",
   "metadata": {},
   "source": [
    "## 3)  Write a program to find the maximum of two given numbers using conditional statements."
   ]
  },
  {
   "cell_type": "markdown",
   "id": "9a6a2368-1bb0-4045-9400-a2410d359861",
   "metadata": {},
   "source": [
    "### Ans 3)\n",
    "\n",
    "#### Steps:\n",
    "- Take two number a and b from user .\n",
    "- If a is greater than b then a is maximum, else b is maximum."
   ]
  },
  {
   "cell_type": "code",
   "execution_count": 3,
   "id": "bde89bce-fcab-425c-9015-ef9fe99007af",
   "metadata": {},
   "outputs": [
    {
     "name": "stdin",
     "output_type": "stream",
     "text": [
      "Enter value of A :  2\n",
      "Enter value of B :  10\n"
     ]
    },
    {
     "name": "stdout",
     "output_type": "stream",
     "text": [
      "10 is maximum.\n"
     ]
    }
   ],
   "source": [
    "a3 = int(input(\"Enter value of A : \"))\n",
    "b3 = int(input(\"Enter value of B : \"))\n",
    "\n",
    "if a3 > b3:\n",
    "    print(f\"{a3} is maximum.\")\n",
    "elif a3 == b3:\n",
    "    print(\"Both numbers are equal, enter different numbers.\")\n",
    "else:\n",
    "    print(f\"{b3} is maximum.\")    "
   ]
  },
  {
   "cell_type": "markdown",
   "id": "18b5193c-16d3-4844-9fdb-717a693b8de9",
   "metadata": {},
   "source": [
    "## 4)  Develop a program that calculates the grade of a student based on their exam score."
   ]
  },
  {
   "cell_type": "markdown",
   "id": "1f12def6-f902-4a1f-b50a-21534a93d1fd",
   "metadata": {},
   "source": [
    "### Ans 4)\n",
    "\n",
    "#### Steps:\n",
    "- Take student's score from user.\n",
    "- Create three range :\n",
    "- 1) Grade A : >= 90 - 80 marks\n",
    "- 2) Grade B : 75 - 80 marks\n",
    "- 3) Grade C : below 75 marks\n",
    "- Return the grade according to the score range."
   ]
  },
  {
   "cell_type": "code",
   "execution_count": 4,
   "id": "841c0c5c-c384-4b05-a664-2441bcb9fb64",
   "metadata": {},
   "outputs": [
    {
     "name": "stdin",
     "output_type": "stream",
     "text": [
      "Enter your score to find Grade :  100\n"
     ]
    },
    {
     "name": "stdout",
     "output_type": "stream",
     "text": [
      "Grade A\n"
     ]
    }
   ],
   "source": [
    "score4 = int(input(\"Enter your score to find Grade : \"))\n",
    "\n",
    "if score4 >= 80 :\n",
    "    print(\"Grade A\")\n",
    "elif score4 <=79 and score4 > 74:\n",
    "    print(\"Grade B\")    \n",
    "else:\n",
    "    print(\"Grade C\")    "
   ]
  },
  {
   "cell_type": "markdown",
   "id": "4d4eb728-2eec-4a7c-ab2c-fa5c24a4b44a",
   "metadata": {},
   "source": [
    "## 5)  Create a program that checks if a year is a leap year or not"
   ]
  },
  {
   "cell_type": "markdown",
   "id": "1752cf59-744d-43fa-9651-dd4c7d210647",
   "metadata": {},
   "source": [
    "### Ans 5)\n",
    "\n",
    "1) A year is said to be leap year if it satisfy the following conditions are satisfied:\n",
    "- i) The Year is a multiple of 400.\n",
    "- ii) The Year is a multiple of 4 and not a multiple of 100.\n",
    "\n",
    "#### Steps:\n",
    "- Take the year from user .\n",
    "- Take modulo division of the year with 400, if it is zero then year is multiple of 400.\n",
    "- Or take modulo division of the year with 4 , if it is zero and modulo division with 100 is not zero, then year is multiple of 4 and not a multiple of 100."
   ]
  },
  {
   "cell_type": "code",
   "execution_count": 5,
   "id": "9bffab3f-8440-484e-b9b4-7843951d0a81",
   "metadata": {},
   "outputs": [
    {
     "name": "stdin",
     "output_type": "stream",
     "text": [
      "Enter the year to check whether it is leap year or not :  2023\n"
     ]
    },
    {
     "name": "stdout",
     "output_type": "stream",
     "text": [
      "The year is not a leap year.\n"
     ]
    }
   ],
   "source": [
    "year5 = int(input(\"Enter the year to check whether it is leap year or not : \"))\n",
    "\n",
    "if (year5%400 ==0) or (year5%4==0 and year5%100!=0):\n",
    "    print(\"The year is leap year.\")\n",
    "else:\n",
    "    print(\"The year is not a leap year.\")    "
   ]
  },
  {
   "cell_type": "markdown",
   "id": "98b89292-908a-4ee2-9482-4963a64f42ce",
   "metadata": {},
   "source": [
    "## 6)  Write a program to classify a triangle based on its sides' lengths."
   ]
  },
  {
   "cell_type": "markdown",
   "id": "fc33da8e-b0dc-4ef4-a735-848161848922",
   "metadata": {},
   "source": [
    "### Ans 6)\n",
    "\n",
    "1) A triangle can be classified as equilateral, isosceles or scalene if :\n",
    "- 1) equilateral : if all three sides of a triangle are same i.e a = b = c.\n",
    "- 2) isosceles : if any two sides of a triangle are same i.e a = b or b = c or c = a \n",
    "- 1) scalene : if none of the side of a triangle is same i.e a != b != c.\n",
    "\n",
    "#### Steps:\n",
    "- Take three side of a triangle from user.\n",
    "- if all three sides of a triangle are same i.e a = b = c, then triangle is equilaterl.\n",
    "- if any two sides of a triangle are same i.e a = b or b = c or c = a , then triangle is isosceles.\n",
    "- if none of the side of a triangle is same i.e a != b != c, then triangle is scalene."
   ]
  },
  {
   "cell_type": "code",
   "execution_count": 6,
   "id": "7ff38b34-8236-458f-a94f-820e2f930c4d",
   "metadata": {},
   "outputs": [
    {
     "name": "stdin",
     "output_type": "stream",
     "text": [
      "Enter first side of triangle :  1\n",
      "Enter second side of triangle :  10\n",
      "Enter third side of triangle :  20\n"
     ]
    },
    {
     "name": "stdout",
     "output_type": "stream",
     "text": [
      "Triangle is Scalene.\n"
     ]
    }
   ],
   "source": [
    "a6 = int(input(\"Enter first side of triangle : \"))\n",
    "b6 = int(input(\"Enter second side of triangle : \"))\n",
    "c6 = int(input(\"Enter third side of triangle : \"))\n",
    "\n",
    "if a6 == b6 == c6:\n",
    "    print(\"Triangle is Equilateral.\")\n",
    "elif a6 == b6 or b6 == c6 or c6 == a6 :\n",
    "    print(\"Triangle is Isosceles.\")   \n",
    "elif a6 !=b6 != c6 :\n",
    "    print(\"Triangle is Scalene.\")    \n",
    "    \n",
    "    "
   ]
  },
  {
   "cell_type": "markdown",
   "id": "62ffc1f7-88b5-44a5-8a36-63d964da756d",
   "metadata": {},
   "source": [
    "## 7)  Build a program that determines the largest of three given numbers."
   ]
  },
  {
   "cell_type": "markdown",
   "id": "e08d0db1-02e4-40df-895f-b3ab750e24c6",
   "metadata": {},
   "source": [
    "### Ans 7)\n",
    "\n",
    "#### Steps:\n",
    "- Take three numbers from user.\n",
    "- If number a is greater than b and c then a is the largest number.\n",
    "- If number b is greater than ba and c then a is the largest number.\n",
    "- Else c is the largest number."
   ]
  },
  {
   "cell_type": "code",
   "execution_count": 7,
   "id": "d47a7a5f-a485-4bf9-95c8-ef341bd20974",
   "metadata": {},
   "outputs": [
    {
     "name": "stdin",
     "output_type": "stream",
     "text": [
      "Enter value of A : 1\n",
      "Enter value of B : 2\n",
      "Enter value of C : 3\n"
     ]
    },
    {
     "name": "stdout",
     "output_type": "stream",
     "text": [
      "3 is the largest number.\n"
     ]
    }
   ],
   "source": [
    "a7 = int(input(\"Enter value of A :\"))\n",
    "b7 = int(input(\"Enter value of B :\"))\n",
    "c7 = int(input(\"Enter value of C :\"))\n",
    "\n",
    "if a7 > b7 and a7 > c7:\n",
    "    print(f\"{a7} is the largest number.\")\n",
    "elif b7 > a7 and b7 > c7: \n",
    "    print(f\"{b7} is the largest number.\")    \n",
    "\n",
    "else:\n",
    "    print(f\"{c7} is the largest number.\")    \n",
    "    "
   ]
  },
  {
   "cell_type": "markdown",
   "id": "075a62af-be46-4dc8-9fc8-936fa489754e",
   "metadata": {},
   "source": [
    "## 8)  Develop a program that checks whether a character is a vowel or a consonant."
   ]
  },
  {
   "cell_type": "markdown",
   "id": "e81d76dc-e530-4098-94e0-c668938b5b4f",
   "metadata": {},
   "source": [
    "### Ans 8)\n",
    "\n",
    "#### Steps:\n",
    "- Take a character from user.\n",
    "- check character is in list of vowel or not.\n",
    "- If character is in list of vowel then char is vowel else char is consonant."
   ]
  },
  {
   "cell_type": "code",
   "execution_count": 8,
   "id": "69749d75-56d5-4a77-9806-697b5d2116eb",
   "metadata": {},
   "outputs": [
    {
     "name": "stdin",
     "output_type": "stream",
     "text": [
      "Enter any character to check whether it is vowel or a consonant :  n\n"
     ]
    },
    {
     "name": "stdout",
     "output_type": "stream",
     "text": [
      "Character is a consonant.\n"
     ]
    }
   ],
   "source": [
    "char8 = input(\"Enter any character to check whether it is vowel or a consonant : \")\n",
    "\n",
    "if char8.lower() in ['a','e','i','o','u']:\n",
    "    print(\"Character is vowel.\")\n",
    "else:\n",
    "    print(\"Character is a consonant.\")    "
   ]
  },
  {
   "cell_type": "markdown",
   "id": "2d7ab289-a079-4e36-acac-6ab3412a4695",
   "metadata": {},
   "source": [
    "## 9)  Create a program to calculate the total cost of a shopping cart based on discounts."
   ]
  },
  {
   "cell_type": "markdown",
   "id": "64e5e838-fe97-4892-9ffa-3a84c00a9818",
   "metadata": {},
   "source": [
    "### Ans 9)\n",
    "\n",
    "1) Let's say, If purchase amount is less than 500Rs then no discount.\n",
    "2) If purchase amount is in between 500Rs-1000Rs, give the discount of 5%.\n",
    "3) If purchase amount is in between 1000Rs-2000Rs, give the discount of 10%.\n",
    "4) If purchase amount is equal to or more than 2000, give the discount of 20%.\n",
    "\n",
    "#### Steps:\n",
    "- Take the purchase amount from user.\n",
    "- Check the above mentioned condition for amount, take the actions accordingly.\n",
    "- Display the purchase amount, discount amount, and Total cost of cart ."
   ]
  },
  {
   "cell_type": "code",
   "execution_count": 9,
   "id": "7cb65fca-dcd9-4523-9afb-0a17328b89ea",
   "metadata": {},
   "outputs": [
    {
     "name": "stdin",
     "output_type": "stream",
     "text": [
      "Enter the purchase amount to calculate the diccounted price on it :  250\n"
     ]
    },
    {
     "name": "stdout",
     "output_type": "stream",
     "text": [
      "Entered Purchese Amount :  250Rs.\n",
      "Discounted Amount :  0Rs.\n",
      "Total cost of cart :  250Rs.\n"
     ]
    }
   ],
   "source": [
    "amount9 = int(input(\"Enter the purchase amount to calculate the diccounted price on it : \"))\n",
    "\n",
    "if amount9 < 500 :\n",
    "    discount_price = 0\n",
    "elif amount9 >= 500 and amount9 < 1000 :\n",
    "    # give 5% discount : \n",
    "    discount_price = (amount9 * 0.05)\n",
    "elif amount9 >= 1000 and amount9 < 2000 :\n",
    "    # give 10% discount : \n",
    "    discount_price = (amount9 * 0.1)\n",
    "else:\n",
    "    # give 20% discount for money 2000 or more: \n",
    "    discount_price = (amount9 * 0.2)\n",
    "    \n",
    "    \n",
    "print(f\"Entered Purchese Amount :  {amount9}Rs.\\nDiscounted Amount :  {discount_price}Rs.\\nTotal cost of cart :  {amount9 - discount_price}Rs.\")\n"
   ]
  },
  {
   "cell_type": "markdown",
   "id": "e303ef2f-998a-4d06-b56c-4c16f23ee19b",
   "metadata": {},
   "source": [
    "## 10)  Write a program that checks if a given number is even or odd"
   ]
  },
  {
   "cell_type": "markdown",
   "id": "cd3dcb5a-395a-4d30-b932-b283dbb1b00a",
   "metadata": {},
   "source": [
    "### Ans 10)\n",
    "\n",
    "#### Steps:\n",
    "- Take a number from user.\n",
    "- If the number is divisible by 2 then number is even, else number is odd."
   ]
  },
  {
   "cell_type": "code",
   "execution_count": 10,
   "id": "3fc7c3d2-57ae-436e-b0b9-d8e3c68dd4d6",
   "metadata": {},
   "outputs": [
    {
     "name": "stdin",
     "output_type": "stream",
     "text": [
      "Enter a number to check whether it is even or odd :  33\n"
     ]
    },
    {
     "name": "stdout",
     "output_type": "stream",
     "text": [
      "Given number is odd.\n"
     ]
    }
   ],
   "source": [
    "num10 = int(input(\"Enter a number to check whether it is even or odd : \"))\n",
    "\n",
    "if num10%2 == 0:\n",
    "    print(\"Given number is even.\")\n",
    "else:\n",
    "    print(\"Given number is odd.\")    "
   ]
  },
  {
   "cell_type": "markdown",
   "id": "a06c4a7f-dfa6-4da8-834f-2417b4e8cbab",
   "metadata": {},
   "source": [
    "# Intermediate Level:"
   ]
  },
  {
   "cell_type": "markdown",
   "id": "f2c8e3fd-d8e1-4f52-ac02-b363ef706708",
   "metadata": {},
   "source": [
    "## 11)  Write a program that calculates the roots of a quadratic equation "
   ]
  },
  {
   "cell_type": "markdown",
   "id": "1d5757b0-a3e4-4737-8799-a6788b9ed1f2",
   "metadata": {},
   "source": [
    "### Ans 11) \n",
    "\n",
    "1) An equation of the form ax2 + bx + c = 0 is referred to as a quadratic equation.\n",
    "2) The values of x, which satisfy the quadratic equation, are known as the roots of the quadratic equation.\n",
    "3) formula to calculate the roots:\n",
    "- Root 1 : x1 = (-b + (b*b-4*a*c)**0.5)/2*a\n",
    "- Root 1 : x2 = (-b - (b*b-4*a*c)**0.5)/2*a\n",
    "\n",
    "#### Steps:\n",
    "- Take values of coefficient of quadractic equation from user.\n",
    "- Use the formula to calculate the roots.\n",
    "- print the roots of equation."
   ]
  },
  {
   "cell_type": "code",
   "execution_count": 14,
   "id": "d74057ad-8b85-4407-ab89-72e4f9b432ac",
   "metadata": {},
   "outputs": [
    {
     "name": "stdout",
     "output_type": "stream",
     "text": [
      "Quadratic equation : ax2 + bx + c = 0\n"
     ]
    },
    {
     "name": "stdin",
     "output_type": "stream",
     "text": [
      "Enter value of a :  2\n",
      "Enter value of b :  -4\n",
      "Enter value of c :  -2\n"
     ]
    },
    {
     "name": "stdout",
     "output_type": "stream",
     "text": [
      "Roots of the equation  :  (9.65685424949238, -1.6568542494923806)\n"
     ]
    }
   ],
   "source": [
    "print(\"Quadratic equation : ax2 + bx + c = 0\")\n",
    "\n",
    "a11 = int(input(\"Enter value of a : \"))\n",
    "b11 = int(input(\"Enter value of b : \"))\n",
    "c11 = int(input(\"Enter value of c : \"))\n",
    "\n",
    "\n",
    "x1 = (-b11 + (b11*b11-4*a11*c11)**0.5)/2*a11\n",
    "x2 = (-b11 - (b11*b11-4*a11*c11)**0.5)/2*a11\n",
    "\n",
    "root = (x1,x2)\n",
    "\n",
    "print(\"Roots of the equation  : \",root)"
   ]
  },
  {
   "cell_type": "markdown",
   "id": "880af193-702c-4a3c-9da9-ed25325b8c61",
   "metadata": {},
   "source": [
    "## 12) . Create a program that determines the day of the week based on the day number (1-7)"
   ]
  },
  {
   "cell_type": "markdown",
   "id": "b65dfd61-1861-45d3-80d9-f9f539438eed",
   "metadata": {},
   "source": [
    "### Ans 12) \n",
    "\n",
    "1) Week days : {1:'Monday',2:'Tuesday',3:'Wednesday',4:'Thursday',5:'Friday',6:'Saturday',7:'Sunday',}\n",
    "\n",
    "#### Steps:\n",
    "- Take a number from user.\n",
    "- Number should be greater than 1 and less than 13.\n",
    "- Check the day accordingly and print it."
   ]
  },
  {
   "cell_type": "code",
   "execution_count": 16,
   "id": "90ec3315-d775-43bd-9f46-a44c8318951d",
   "metadata": {},
   "outputs": [
    {
     "name": "stdin",
     "output_type": "stream",
     "text": [
      "Enter a number to determine the day of the week :  7\n"
     ]
    },
    {
     "name": "stdout",
     "output_type": "stream",
     "text": [
      "Day is Sunday\n"
     ]
    }
   ],
   "source": [
    "day12 = int(input(\"Enter a number to determine the day of the week : \"))\n",
    "\n",
    "if day12 > 0 and day12 < 8:\n",
    "    if day12 == 1:\n",
    "        print(\"Day is Monday\")\n",
    "    elif day12 == 2:\n",
    "        print(\"Day is Tuesday\")\n",
    "    elif day12 == 3:\n",
    "        print(\"Day is Wednesday\")\n",
    "    elif day12 == 4:\n",
    "        print(\"Day is Thursday\")\n",
    "    elif day12 == 5:\n",
    "        print(\"Day is Friday\")\n",
    "    elif day12 == 6:\n",
    "        print(\"Day is Saturday\")\n",
    "    else :\n",
    "        print(\"Day is Sunday\")\n",
    "        \n",
    "else:\n",
    "    print(\"Enter a valid number.\")"
   ]
  },
  {
   "cell_type": "markdown",
   "id": "cb29ee23-7db8-411d-b52c-4ea9b8cff7db",
   "metadata": {},
   "source": [
    "## 13) Develop a program that calculates the factorial of a given number using recursion.\n"
   ]
  },
  {
   "cell_type": "markdown",
   "id": "799518cf-66c2-4006-b190-c046173d5669",
   "metadata": {},
   "source": [
    "### Ans 13)\n",
    "\n",
    "1) Factorial formula : n! = n*(n-1)!\n",
    "\n",
    "#### Steps:\n",
    "- Take a number from user.\n",
    "- Write the recursion function to calculate the factorial of given number and return it."
   ]
  },
  {
   "cell_type": "code",
   "execution_count": 18,
   "id": "744fe7d3-3994-4a2f-bf36-7d64b68585cf",
   "metadata": {},
   "outputs": [
    {
     "name": "stdin",
     "output_type": "stream",
     "text": [
      "Enter a number to find the factorial :  10\n"
     ]
    },
    {
     "data": {
      "text/plain": [
       "3628800"
      ]
     },
     "execution_count": 18,
     "metadata": {},
     "output_type": "execute_result"
    }
   ],
   "source": [
    "def fact13(n):\n",
    "    if n==0 or n==1:\n",
    "        return n\n",
    "    \n",
    "    else:\n",
    "        return n*fact13(n-1)\n",
    "    \n",
    "num = int(input(\"Enter a number to find the factorial : \"))\n",
    "fact13(num)"
   ]
  },
  {
   "cell_type": "markdown",
   "id": "42aa82cb-1be6-46ad-ae32-8271f9b5d8a7",
   "metadata": {},
   "source": [
    "## 14) Write a program to find the largest among three numbers without using the `max()` function."
   ]
  },
  {
   "cell_type": "markdown",
   "id": "16a1f150-e9c4-43c0-a970-687ee0864613",
   "metadata": {},
   "source": [
    "### Ans 14)\n",
    "\n",
    "#### Steps:\n",
    "- Take three numbers A,B and C from user.\n",
    "- If number A is greater than B then A can > C , if yes then A is largest.Else C is the largest.\n",
    "- If number B is greater than C then B is largest.Else C is the largest."
   ]
  },
  {
   "cell_type": "code",
   "execution_count": 19,
   "id": "36921a1f-1ab2-47cf-86b9-e86405812cf1",
   "metadata": {},
   "outputs": [
    {
     "name": "stdin",
     "output_type": "stream",
     "text": [
      "Enter value of A : 20\n",
      "Enter value of B : 20\n",
      "Enter value of C : 10\n"
     ]
    },
    {
     "name": "stdout",
     "output_type": "stream",
     "text": [
      "20 is the largest number.\n"
     ]
    }
   ],
   "source": [
    "a14 = int(input(\"Enter value of A :\"))\n",
    "b14 = int(input(\"Enter value of B :\"))\n",
    "c14 = int(input(\"Enter value of C :\"))\n",
    "\n",
    "if a14 > b14:\n",
    "    if a14 > c14:\n",
    "        print(f\"{a14} is the largest number.\")\n",
    "    else:\n",
    "        print(f\"{c14} is the largest number.\")     \n",
    "        \n",
    "elif b14>c14:\n",
    "    print(f\"{b14} is the largest number.\")    \n",
    "else:\n",
    "    print(f\"{c14} is the largest number.\")    "
   ]
  },
  {
   "cell_type": "markdown",
   "id": "42f1a48e-863f-4b7d-86e2-113a81e6cc5d",
   "metadata": {},
   "source": [
    "## 15) Create a program that simulates a basic ATM transaction menu."
   ]
  },
  {
   "cell_type": "markdown",
   "id": "220edc1f-ecd1-42c8-aa9c-5551e5b12e66",
   "metadata": {},
   "source": [
    "### Ans 15)\n",
    "\n",
    "1) Let's create a basic ATM transaction menu which can do following transaction :\n",
    "- 1) Withdrawl\n",
    "- 2) Deposit\n",
    "- 3) Check your balance\n",
    "- 4) Exit\n",
    "\n",
    "2) Consider the amount in my balance is 5000 Rs.\n",
    "\n",
    "#### Steps:\n",
    "- Display ATM transactoin menu.\n",
    "- Take a number from user to perform any of the above mentioned transaction.\n",
    "- Write the conditions for each transaction :\n",
    "- i) Withdrawl : if the withdrawl amount is equal to or less than current amount, make the transaction else display a message that \"You don't have enough balance in your account.\"\n",
    "- ii) Deposit : add the deposit amount to current amount.\n",
    "- iii) Check your balance : Display the current amount.\n",
    "- iv) Exit : Display a message \"Thank You !\""
   ]
  },
  {
   "cell_type": "code",
   "execution_count": 8,
   "id": "596ece78-d11d-4414-8577-d1440f2a331d",
   "metadata": {},
   "outputs": [
    {
     "name": "stdout",
     "output_type": "stream",
     "text": [
      "ATM transaction menu:\n",
      "1) Withdrawl\n",
      "2) Deposit\n",
      "3) Check your balance\n",
      "4) Exit\n"
     ]
    },
    {
     "name": "stdin",
     "output_type": "stream",
     "text": [
      "Press a number for respective transaction :  3\n"
     ]
    },
    {
     "name": "stdout",
     "output_type": "stream",
     "text": [
      "Your current balance is :  5000 Rs.\n"
     ]
    }
   ],
   "source": [
    "print(\"ATM transaction menu:\\n1) Withdrawl\\n2) Deposit\\n3) Check your balance\\n4) Exit\")\n",
    "num = int(input(\"Press a number for respective transaction : \"))\n",
    "\n",
    "## let's say my account balance is 5000Rs.\n",
    "amount = 5000\n",
    "\n",
    "## transactions : \n",
    "# withdraw\n",
    "if num == 1:     \n",
    "    withdraw_amount = int(input(\"Enter withdraw amount : \"))\n",
    "    if withdraw_amount <= amount:\n",
    "        print(\"Transaction has done successfully.\")\n",
    "        amount = amount - withdraw_amount\n",
    "    else:\n",
    "        print(\"You don't have enough balance in your account.\")\n",
    "        \n",
    "# deposit\n",
    "elif num == 2:    \n",
    "    deposit_amount = int(input(\"Enter deposit amount : \"))\n",
    "    amount = amount + deposit_amount\n",
    "    print(\"Amount is deposited succefully in your account.\")\n",
    "    \n",
    "# check your balance\n",
    "elif num == 3:   \n",
    "    print(\"Your current balance is : \",amount,\"Rs.\")\n",
    "\n",
    "# exit\n",
    "elif num == 4:   \n",
    "    print(\"Thank You!\")\n",
    "else:\n",
    "    print(\"Enter a valid number to make transaction.\")"
   ]
  },
  {
   "cell_type": "markdown",
   "id": "96758575-9a3e-4710-8ec8-dc85e3d7d9a1",
   "metadata": {},
   "source": [
    "## 16) Build a program that checks if a given string is a palindrome or not"
   ]
  },
  {
   "cell_type": "markdown",
   "id": "3c51ce6f-2fb4-4f35-a832-503d16048a33",
   "metadata": {},
   "source": [
    "## Ans 16) \n",
    "\n",
    "1) Palindrome String : A string is said to be palindrome if first half of the string is same as the reversed of second half of the string.\n",
    "\n",
    "### Steps:\n",
    "- Take the string from the user\n",
    "- First check the length of the string.\n",
    "- 1) If the length is odd then string is not a palindrome.\n",
    "- 2) If legth is even then executes below steps.\n",
    "- Divide the string into two parts i.e str1 and str2\n",
    "- Reverse the second half of the string i.e str2.\n",
    "- Now compare both of the half of the string.\n",
    "- If both are same,given string is palindrome else not."
   ]
  },
  {
   "cell_type": "code",
   "execution_count": 21,
   "id": "da798361-e4f7-4f68-9754-a2c1d0f4513a",
   "metadata": {},
   "outputs": [
    {
     "name": "stdin",
     "output_type": "stream",
     "text": [
      "Enter the string to check, is it palindrome or not? data\n"
     ]
    },
    {
     "name": "stdout",
     "output_type": "stream",
     "text": [
      "Given string is not a Palindrome.\n"
     ]
    }
   ],
   "source": [
    "# 1) Take the string from the user\n",
    "input_str16 = input(\"Enter the string to check, is it palindrome or not?\")\n",
    "\n",
    "# 2) First check the length of the string.\n",
    "str_len16 = len(input_str16)\n",
    "\n",
    "# 3) If the length is odd then string is not a palindrome.\n",
    "# 2) If legth is even then executes below steps.\n",
    "# Divide the string into two parts i.e str1 and str2\n",
    "# Reverse the second half of the string i.e str2.\n",
    "# Now compare both of the half of the string.\n",
    "# If both are same,given string is palindrome else not.\n",
    "\n",
    "if str_len16%2 != 0:\n",
    "    print(f\"Given string is not a Palindrome.\")\n",
    "else:\n",
    "    # divide the string into two parts\n",
    "    str1 = input_str16[:str_len16//2]\n",
    "    str2 = input_str16[str_len16//2:]\n",
    "    \n",
    "    # reverse the str2 \n",
    "    str2 = str2[::-1]\n",
    "    \n",
    "    # comapre both the string\n",
    "    if str1 == str2:\n",
    "        print(f\"Given string is a Palindrome.\")\n",
    "    else:\n",
    "        print(f\"Given string is not a Palindrome.\")"
   ]
  },
  {
   "cell_type": "markdown",
   "id": "75c4ea15-08d9-4cef-85d3-f33ea0fee79a",
   "metadata": {},
   "source": [
    "## 17) Write a program that calculates the average of a list of numbers, excluding the smallest and largest values"
   ]
  },
  {
   "cell_type": "markdown",
   "id": "386f035e-0221-4887-a23a-fb618bf482d3",
   "metadata": {},
   "source": [
    "### Ans 17)\n",
    "\n",
    "#### Steps:\n",
    "- Create a list of numbers.\n",
    "- Calculate the sum and length of the list.\n",
    "- Find the max and min value of list.\n",
    "- Use this formula and put all the calculated values in it : (sum_of_list_elements - (max_ele + min_ele)) / (list_len - 2)\n",
    "- Print the avg."
   ]
  },
  {
   "cell_type": "code",
   "execution_count": 31,
   "id": "7c666dea-2bcd-4e3c-a387-8ef791c5dc2e",
   "metadata": {},
   "outputs": [
    {
     "name": "stdout",
     "output_type": "stream",
     "text": [
      "Given list : [2, 10, 30, 5, 1, 9]\n",
      "Average of numbers of a list, excluding max and min value : 6.5\n"
     ]
    }
   ],
   "source": [
    "list17 = [2,10,30,5,1,9]\n",
    "print(f\"Given list : {list17}\")\n",
    "sum_ele = sum(list17)\n",
    "max_ele = max(list17)\n",
    "min_ele = min(list17)\n",
    "\n",
    "avg17 = (sum_ele - (max_ele + min_ele)) / (len(list17) - 2)\n",
    "\n",
    "print(f\"Average of numbers of a list, excluding max and min value : {avg17}\")"
   ]
  },
  {
   "cell_type": "markdown",
   "id": "1fdedfcb-6084-42c8-996a-0a6985a8bd39",
   "metadata": {},
   "source": [
    "## 18) Develop a program that converts a given temperature from Celsius to Fahrenheit"
   ]
  },
  {
   "cell_type": "markdown",
   "id": "351061a2-6c3f-45c6-9e3a-7da62a1e6814",
   "metadata": {},
   "source": [
    "## Ans 18)\n",
    "\n",
    "1) Formula : Temperature in degrees Fahrenheit (°F) = (Temperature in degrees Celsius (°C) x 9/5) + 32\n",
    "\n",
    "#### Steps :\n",
    "- Take the input i.e temperature in Celsius  from the user\n",
    "- Convert temperature from Celsius to Fahrenheit using formula and store it into variable called \"Fahren_temp\"\n",
    "- Display the converted temperature i.e : Fahren_temp"
   ]
  },
  {
   "cell_type": "code",
   "execution_count": 33,
   "id": "d328ef91-2360-4ed2-a77d-c517fc98e256",
   "metadata": {},
   "outputs": [
    {
     "name": "stdin",
     "output_type": "stream",
     "text": [
      "Enter the temperature in Celsius :  10\n"
     ]
    },
    {
     "name": "stdout",
     "output_type": "stream",
     "text": [
      "Temperature in Fahrenheit is :  50.0\n"
     ]
    }
   ],
   "source": [
    "## step 1) take the input i.e temperature in Celsius from the user\n",
    "celsius_temp18 = float(input(\"Enter the temperature in Celsius : \"))\n",
    "\n",
    "## step 2) convert temperature from celsius to Fahrenheit using the formula\n",
    "Fahren_temp18 = (celsius_temp18 * 9/5) + 32\n",
    "\n",
    "## step 3) display the converted temperature i.e Fahren_temp\n",
    "print(\"Temperature in Fahrenheit is : \",Fahren_temp18)"
   ]
  },
  {
   "cell_type": "markdown",
   "id": "1ed7540e-8c85-4a27-bcb1-a455a6f22039",
   "metadata": {},
   "source": [
    "## 19) Create a program that simulates a basic calculator for addition, subtraction, multiplication, and division"
   ]
  },
  {
   "cell_type": "markdown",
   "id": "512b0144-2b0e-4bac-a3f5-042afac589b9",
   "metadata": {},
   "source": [
    "### Ans 19)\n",
    "\n",
    "#### Steps:\n",
    "- Display the operations that can be done by program.\n",
    "- Take two numbers from user to perform any of the operation.\n",
    "- Display the symbol and take symbol as operation from user to perform that task.\n",
    "- Check the codition for symbol and perfom respected task and print the result."
   ]
  },
  {
   "cell_type": "code",
   "execution_count": 35,
   "id": "03e240ae-26a0-4b18-ba2d-31001625d49d",
   "metadata": {},
   "outputs": [
    {
     "name": "stdout",
     "output_type": "stream",
     "text": [
      "Enter two numbers to perform any of the following operation :\n",
      "1) Addition : +\n",
      "2) Substraction : -\n",
      "3) Multiplication : x\n",
      "4) Division : / \n"
     ]
    },
    {
     "name": "stdin",
     "output_type": "stream",
     "text": [
      "Enter number 1 :  10\n",
      "Enter number 2 :  20\n",
      "Enter the symbol to perform the task : [+ , - , x , / ] x\n"
     ]
    },
    {
     "name": "stdout",
     "output_type": "stream",
     "text": [
      "Multiplication of given numbers is : 200\n"
     ]
    }
   ],
   "source": [
    "print(\"Enter two numbers to perform any of the following operation :\\n1) Addition : +\\n2) Substraction : -\\n3) Multiplication : x\\n4) Division : / \")\n",
    "num1 = int(input(\"Enter number 1 : \"))\n",
    "num2 = int(input(\"Enter number 2 : \"))\n",
    "\n",
    "opt = input(\"Enter the symbol to perform the task : [+ , - , x , / ]\")\n",
    "\n",
    "if opt == '+':\n",
    "    print(f\"Addition of given numbers is : {num1+num2}\")\n",
    "elif opt == '-':\n",
    "    print(f\"Substraction of given numbers is : {num1-num2}\")\n",
    "elif opt == 'x' or opt == '*' or opt == 'X':\n",
    "    print(f\"Multiplication of given numbers is : {num1*num2}\")\n",
    "elif opt == '/' :\n",
    "    print(f\"Division of given numbers is : {num1/num2}\")\n",
    "else:\n",
    "    print(\"Enter valid symbol.\")"
   ]
  },
  {
   "cell_type": "markdown",
   "id": "5797bb8b-c0b0-46ee-928a-43ebf79099ab",
   "metadata": {},
   "source": [
    "## 20) Write a program that determines the roots of a cubic equation using the Cardano formula."
   ]
  },
  {
   "cell_type": "markdown",
   "id": "d69ed1b2-c283-4522-b343-bbaf5c273bdf",
   "metadata": {},
   "source": [
    "### Ans 20)\n",
    "\n",
    "1) If aX3 + bX2 + cX + d = 0 , is a cubic equation then its roots can be determine by using Cardano formula as follows:\n",
    "- x1 = S+T - b/3a\n",
    "- x2 = -(S+T)/2 - (b/3a) + i (S-T)*sqrt(3)/2\n",
    "- x3 = -(S+T)/2 - (b/3a) - i (S-T)*sqrt(3)/2\n",
    "\n",
    "- Where :\n",
    "- S = cuberoot(R+(Q3+R3)**0.5)\n",
    "- T = cuberoot(R-(Q3+R3)**0.5)\n",
    "\n",
    "- Where :\n",
    "- Q = (3ac-b2)/9a2\n",
    "- R = (9abc - 27a2d - 2b3)/ 54a3\n",
    "\n",
    "\n",
    "#### Steps:\n",
    "- Display cubic equation.\n",
    "- Take values of a,b,c and d to find cubic equation's root.\n",
    "- use the above formula and find the roots and print them."
   ]
  },
  {
   "cell_type": "code",
   "execution_count": 43,
   "id": "fde42a25-ff92-4493-87ce-fd8fcd2c537a",
   "metadata": {},
   "outputs": [
    {
     "name": "stdout",
     "output_type": "stream",
     "text": [
      "Cubix equation : ax3 + bx2 + cx + d = 0\n",
      "Enter the values of a,b,c and d to find its roots:\n"
     ]
    },
    {
     "name": "stdin",
     "output_type": "stream",
     "text": [
      "Enter the value of a :  1\n",
      "Enter the value of b :  2\n",
      "Enter the value of c :  3\n",
      "Enter the value of d :  4\n"
     ]
    },
    {
     "data": {
      "text/plain": [
       "((-1.5308641975308641+0j),\n",
       " (-0.2345679012345679+0.8178850582037773j),\n",
       " (-0.2345679012345679-0.8178850582037773j))"
      ]
     },
     "execution_count": 43,
     "metadata": {},
     "output_type": "execute_result"
    }
   ],
   "source": [
    "print(\"Cubix equation : ax3 + bx2 + cx + d = 0\\nEnter the values of a,b,c and d to find its roots:\")\n",
    "a = int(input(\"Enter the value of a : \"))\n",
    "b = int(input(\"Enter the value of b : \"))\n",
    "c = int(input(\"Enter the value of c : \"))\n",
    "d = int(input(\"Enter the value of d : \"))\n",
    "\n",
    "\n",
    "Q = (3*a*c-b*b)/(9*a*a)\n",
    "R = ((9*a*b*c) - (27*a*a*d) - (2*b*b*b))/ (54*a*a*a)\n",
    "\n",
    "S = (R+((Q*Q*Q)+(R*R*R))**0.5)**1/3\n",
    "T = (R-((Q*Q*Q)+(R*R*R))**0.5)**1/3\n",
    "\n",
    "x1 = (S+T - (b/3*a))\n",
    "x2 = complex(((-(S+T)/2) +(-(b/3*a))) + ((S-T)*(3**0.5)/2))\n",
    "x3 = complex(((-(S+T)/2) +(-(b/3*a))) - ((S-T)*(3**0.5)/2))\n",
    "\n",
    "roots = (x1,x2,x3)\n",
    "roots"
   ]
  },
  {
   "cell_type": "markdown",
   "id": "5eafb3cd-8f1b-4985-a778-49a84b87da2e",
   "metadata": {},
   "source": [
    "# Advanced Level::"
   ]
  },
  {
   "cell_type": "markdown",
   "id": "1d3b8b8b-9ff8-422f-9081-97e8df3eaf28",
   "metadata": {},
   "source": [
    "##  21) Create a program that calculates the income tax based on the user's income and tax brackets"
   ]
  },
  {
   "cell_type": "markdown",
   "id": "c9cabeec-c86a-4c80-96a6-fc1650018449",
   "metadata": {},
   "source": [
    "### Ans 21)\n",
    "\n",
    "- Following are the tax slab/ranges for income : \n",
    "- Income Slab\t                         : Applicable Tax Rate\n",
    "- 1) Up to Rs 3 lakh :\t                            Nil\n",
    "- 2) Above Rs 3 lakh and up to Rs 6 lakh :\t        5%\n",
    "- 3) Above Rs 6 lakh and up to Rs 9 lakh :\t        10%\n",
    "- 4) Above Rs 9 lakh and up to Rs 12 lakh :\t        15%\n",
    "- 5) Above Rs 12 lakh and up to Rs 15 lakh :\t    20%\n",
    "- 6) Above Rs 15 lakh :\t                            30%\n",
    "\n",
    "#### Steps:\n",
    "- Take the income from user.\n",
    "- Check, which condition entered income belongs to and apply the taxes accordingly.\n",
    "- 1) If income is less than or equal to 3L , no tax is applicable on it.\n",
    "- 2) If income is less than or equal to 6L , for first 3L no charge is applicable for rest of the amount 5% tax is applicable.\n",
    "- 3) If income is less than or equal to 9L , for first 3L no charge is applicable and for 3L+1Rs to 6L 5% tax and  for rest of the amount(i.e 6L+1Rs to ..) 10% tax is applicable.\n",
    "- 4) If income is less than or equal to 12L , for first 3L no charge is applicable and for 3L+1Rs to 6L 5%  tax and  for 6L+1Rs to 9L 10% tax and for rest of the amount 15% is applicable.\n",
    "- 5) If income is less than or equal to 15L , for first 3L no charge is applicable and for 3L+1Rs to 6L 5%  tax and  for 6L+1Rs to 9L 10% tax and for 9L+1Rs to 12L 15% tax and for rest of the amount 20% is applicable.\n",
    "- 6) If income is greater than 15L , for first 3L no charge is applicable and for 3L+1Rs to 6L 5%  tax and  for 6L+1Rs to 9L 10% tax and for 9L+1Rs to 12L 15% tax and for 12L+1Rs to 15L 20% tax and for rest of the amount 30% is applicable.\n",
    "\n",
    "- Note: Finally print the Income tax"
   ]
  },
  {
   "cell_type": "code",
   "execution_count": 3,
   "id": "78f6084d-0613-43d1-97ec-631c22ae07aa",
   "metadata": {},
   "outputs": [
    {
     "name": "stdin",
     "output_type": "stream",
     "text": [
      "Enter your income to calculate income tax :  400000\n"
     ]
    },
    {
     "name": "stdout",
     "output_type": "stream",
     "text": [
      "Entered Income : 400000Rs.\n",
      "Income tax : 5000.0Rs.\n",
      "Final Income : 395000.0Rs.\n"
     ]
    }
   ],
   "source": [
    "income21 = int(input(\"Enter your income to calculate income tax : \"))\n",
    "\n",
    "if income21 <= 300000:\n",
    "    income_tax = 0\n",
    "    print(f\"Entered Income : {income21}Rs.\\nIncome tax : {income_tax}Rs.\\nFinal Income : {income21-income_tax}Rs.\")\n",
    "    \n",
    "elif income21 <= 600000:\n",
    "    income_tax = (300000 )*0 + (income21 - 300000 )*0.05\n",
    "    print(f\"Entered Income : {income21}Rs.\\nIncome tax : {income_tax}Rs.\\nFinal Income : {income21-income_tax}Rs.\")\n",
    "\n",
    "elif income21 <= 900000:\n",
    "    income_tax = (300000 )*0 + (300000 )*0.05 + (income21 - 600000 )*0.1\n",
    "    print(f\"Entered Income : {income21}Rs.\\nIncome tax : {income_tax}Rs.\\nFinal Income : {income21-income_tax}Rs.\")\n",
    "\n",
    "elif income21 <= 1200000:\n",
    "    income_tax = (300000 )*0 + (300000 )*0.05 + (300000 )*0.1 + (income21 - 900000 )*0.15\n",
    "    print(f\"Entered Income : {income21}Rs.\\nIncome tax : {income_tax}Rs.\\nFinal Income : {income21-income_tax}Rs.\")\n",
    "\n",
    "elif income21 <= 1500000:\n",
    "    income_tax = (300000 )*0 + (300000 )*0.05 + (300000 )*0.1 + (300000 )*0.15 + (income21 - 1500000 )*0.2\n",
    "    print(f\"Entered Income : {income21}Rs.\\nIncome tax : {income_tax}Rs.\\nFinal Income : {income21-income_tax}Rs.\")\n",
    "\n",
    "elif income21 > 1500000:\n",
    "    income_tax = (300000 )*0 + (300000 )*0.05 + (300000 )*0.1 + (300000 )*0.15 + (300000 )*0.2 + (income21 - 1500000 )*0.3\n",
    "    print(f\"Entered Income : {income21}Rs.\\nIncome tax : {income_tax}Rs.\\nFinal Income : {income21-income_tax}Rs.\")\n",
    "\n",
    "else:\n",
    "    print(\"Enter a valid income.\")"
   ]
  },
  {
   "cell_type": "markdown",
   "id": "8172eda4-d1f9-42d1-a6aa-7e77a07b84cc",
   "metadata": {},
   "source": [
    "## 22) Write a program that simulates a rock-paper-scissors game against the computer"
   ]
  },
  {
   "cell_type": "markdown",
   "id": "18bb2020-3afd-4bb2-94f9-2fc8aa8c3921",
   "metadata": {},
   "source": [
    "### Ans 22)\n",
    "\n",
    "1) First understand how to play this game. This game is played between two players say you and computer.\n",
    "2) You can choose Rock - Paper - Scissors and then computer chose randomly from this set.\n",
    "3) Win,Lose and draw is decided based on following conditions :\n",
    "- 1) You win, if : {You : Rock , Bot : Scissors} or {You : Scissors , Bot : Paper} or {You : Paper , Bot : Rock}\n",
    "- 2) You Lose, if : {You : Scissors , Bot : Rock} or {You : Paper , Bot : Scissors} or {You : Rock , Bot : Paper}\n",
    "- 3) Draw, if : {You : Scissors , Bot : Scissors} or {You : Paper , Bot : Paper} or {You : Rock , Bot : Rock}\n",
    "\n",
    "#### Steps:\n",
    "- Display game and what a user can enter.\n",
    "- Take input from user by giving the choice Rock/Scissors/Paper.\n",
    "- By using random module, generate a random input from Rock/Scissors/Paper for 2nd player i.e computer.\n",
    "- Check the above mentioned condition and display the message accordingly."
   ]
  },
  {
   "cell_type": "code",
   "execution_count": 18,
   "id": "5a62cb2c-eb2c-4fd2-b2a7-1b7571742b90",
   "metadata": {},
   "outputs": [
    {
     "name": "stdout",
     "output_type": "stream",
     "text": [
      "Rock | Paper | Scissors Game :\n",
      "You can enter :\n",
      "r for Rock\n",
      "s for Scissors\n",
      "p for Paper\n"
     ]
    },
    {
     "name": "stdin",
     "output_type": "stream",
     "text": [
      "Your turn  : choose r/p/s  s\n"
     ]
    },
    {
     "name": "stdout",
     "output_type": "stream",
     "text": [
      "You : s\n",
      "Bot : p\n",
      "You Win!\n"
     ]
    }
   ],
   "source": [
    "import random\n",
    "\n",
    "print(\"Rock | Paper | Scissors Game :\")\n",
    "print(\"You can enter :\\nr for Rock\\ns for Scissors\\np for Paper\")\n",
    "\n",
    "bot = random.sample(['r','p','s'],1)[0]\n",
    "you = input(\"Your turn  : choose r/p/s \")\n",
    "print(f\"You : {you}\\nBot : {bot}\")\n",
    "\n",
    "if you == bot:\n",
    "    print(\"Draw.\")\n",
    "elif (you == 'r' and bot == 's') or (you == 's' and bot == 'p') or (you == 'p' and bot == 'r'):\n",
    "    print(\"You Win!\")\n",
    "elif (you == 's' and bot == 'r') or (you == 'p' and bot == 's') or (you == 'r' and bot == 'p'):\n",
    "    print(\"You Lose!\")\n",
    "else:\n",
    "    print(\"Enter a valid character\")"
   ]
  },
  {
   "cell_type": "markdown",
   "id": "eb2f127d-7e54-47a2-908c-72928ec0035e",
   "metadata": {},
   "source": [
    "## 23)  Develop a program that generates a random password based on user preferences (length, complexity)."
   ]
  },
  {
   "cell_type": "markdown",
   "id": "605a70da-39a0-4c7a-9de9-253c61489621",
   "metadata": {},
   "source": [
    "### Ans 23)\n",
    "\n",
    "- We know that password generally contains characters, digits and special symbol. And password can be weak or strong.\n",
    "- It is said that weak password generally contains only characters or only digits or combination of both.\n",
    "- Strong password contains upper and lower case letters, digits and specail symbols.\n",
    "- By keeping in mind these things let's create two sequence : weak and strong.\n",
    "- 1) Weak sequence : can contain digits (0-9), letters (A-Z,a-z).\n",
    "- 2) Strong sequence : can contain digits (0-9), letters (A-Z,a-z) and special symbols such as (-+={[,'....)\n",
    "- Now By using random module, we can generate a password of giving length based on complexity by selecting random characters from sequence and by appending it in password sequence.\n",
    "\n",
    "#### Steps:\n",
    "- Import random module\n",
    "- Display the random password generator and take length and complexity of password from user.\n",
    "- Create an empty string to store password.\n",
    "- Create two strings : weak and strong.\n",
    "- Check the condition based on complexity and generate the password and display it."
   ]
  },
  {
   "cell_type": "code",
   "execution_count": 15,
   "id": "e77ef8d4-60d2-467b-bc3a-8fb8f0c5b855",
   "metadata": {},
   "outputs": [
    {
     "name": "stdout",
     "output_type": "stream",
     "text": [
      ": Generate a random password by entering length and complexity : \n"
     ]
    },
    {
     "name": "stdin",
     "output_type": "stream",
     "text": [
      "Enter the length of password that you want to generate :  10\n",
      "Select password complexity by entering number 1 or 2: \n",
      "1) Weak password\n",
      "2) Strong password\n",
      " 2\n"
     ]
    },
    {
     "name": "stdout",
     "output_type": "stream",
     "text": [
      "Generated password is : )'2](`>A(8\n"
     ]
    }
   ],
   "source": [
    "## import random module\n",
    "import random\n",
    "\n",
    "## display password generator and take user input and store it in a variable\n",
    "print(\": Generate a random password by entering length and complexity : \")\n",
    "pass_len = int(input(\"Enter the length of password that you want to generate : \"))\n",
    "complexity = int(input(\"Select password complexity by entering number 1 or 2: \\n1) Weak password\\n2) Strong password\\n\"))\n",
    "\n",
    "## create an empty string to store password\n",
    "password = \"\"\n",
    "\n",
    "## Create two sequences of characters weak and strong for different password complexity. \n",
    "weak_sequence = \"0123456789abcdefghijklmnopqrstuvwxyz\"\n",
    "strong_sequence = \"0123456789abcdefghijklmnopqrstuvwxyzABCDEFGHIJKLMNOPQRSTUVWXYZ!#$%&'()*+, -./:;<=>?@[\\]^_`{|}~\"\n",
    "\n",
    "\n",
    "## based on selected complexity generate strong and weak password accordingly by passing weak or strong sequence of characters to random module\n",
    "if complexity == 1: \n",
    "    # run the loop till length of pass times\n",
    "    for i in range(pass_len):\n",
    "        password = password + random.choice(weak_sequence)\n",
    "    # display the final generated password\n",
    "    print(\"Generated password is : \",password)\n",
    "        \n",
    "elif complexity == 2:\n",
    "    for i in range(pass_len):\n",
    "        password = password + random.choice(strong_sequence)\n",
    "        \n",
    "    print(\"Generated password is :\",password)\n",
    "        \n",
    "else:\n",
    "    print(\"Select valid complexity.\")"
   ]
  },
  {
   "cell_type": "markdown",
   "id": "1f8c9172-943b-4d46-9614-3bbc20fd9883",
   "metadata": {},
   "source": [
    "## 24)  Create a program that implements a simple text-based adventure game with branching scenarios."
   ]
  },
  {
   "cell_type": "markdown",
   "id": "61482c6d-d1ec-4829-96bb-1c87c1bd52b8",
   "metadata": {},
   "source": [
    "### Ans 24) \n",
    "\n",
    "1) Lets create an adventure game. Say there are 4 rooms entry room, 1st hunted room, exit room and 2nd hunted room.\n",
    "2) If a player entered in any of the hunted room, he will be killed.\n",
    "3) Player will start to move from entry room where he will find two ways.\n",
    "- 1) Right : if player chosed right, he would be entered in exit room.\n",
    "- - In exit room he will find two ways right and left.\n",
    "- - 1) Left : if he chosed left, he would be entered in 2nd hunted room, he will be killed.\n",
    "- - 2) Right : if he chosed right,player found the exit way. \n",
    "- 2) Forward : if he chosed forward, he would be entered in 1st hunted room, he will be killed.\n",
    "\n",
    "#### Steps:\n",
    "- Display Welcome game and game guidelines\n",
    "- Take name from user and say Good luck\n",
    "- Start the game by taking the input from user.\n",
    "- Write the conditions for each room as mentioned above.\n",
    "- check the input, from which condition it belongs to and take the action accordingly."
   ]
  },
  {
   "cell_type": "code",
   "execution_count": 5,
   "id": "99567716-3fa6-4ede-a294-ac42a6ee8b75",
   "metadata": {},
   "outputs": [
    {
     "name": "stdout",
     "output_type": "stream",
     "text": [
      "-----------:Welcome to the text-based adventure game:-----------\n",
      "Guide, how to play the game:\n",
      "1) This is an adventure game, where you will enter in a room and you have to find the exit room.\n",
      "2) If you entered in a hunted room then you will be killed.\n",
      "3) You can move only Right/Left/Forward.\n",
      "4) To move Right/Left/Forward , you can enter r/l/f.\n"
     ]
    },
    {
     "name": "stdin",
     "output_type": "stream",
     "text": [
      "Let's start the Game with your name :  noorain\n"
     ]
    },
    {
     "name": "stdout",
     "output_type": "stream",
     "text": [
      "Good Luck noorain\n"
     ]
    },
    {
     "name": "stdin",
     "output_type": "stream",
     "text": [
      "You are in entery room, there are two ways forward and right. Where would you like to go? r\n"
     ]
    },
    {
     "name": "stdout",
     "output_type": "stream",
     "text": [
      "Good you are a few steps away from exit point.\n"
     ]
    },
    {
     "name": "stdin",
     "output_type": "stream",
     "text": [
      "You are in exit room, there are two ways left and right. Where would you like to go? r\n"
     ]
    },
    {
     "name": "stdout",
     "output_type": "stream",
     "text": [
      "Hurrahhhhhyyyy!\n",
      "You made it! You've found an exit.\n"
     ]
    }
   ],
   "source": [
    "## Display Welcome game and game guidelines\n",
    "print(\"-----------:Welcome to the text-based adventure game:-----------\")\n",
    "print(\"Guide, how to play the game:\\n1) This is an adventure game, where you will enter in a room and you have to find the exit room.\\n2) If you entered in a hunted room then you will be killed.\\n3) You can move only Right/Left/Forward.\\n4) To move Right/Left/Forward , you can enter r/l/f.\")\n",
    "\n",
    "## Take name from user and say Good luck\n",
    "name = input(\"Let's start the Game with your name : \")\n",
    "print(\"Good Luck\",name)\n",
    "\n",
    "## Start the game by taking the input from user.\n",
    "entery_room_input = input(\"You are in entery room, there are two ways forward and right. Where would you like to go?\")\n",
    "\n",
    "if entery_room_input == 'r':\n",
    "    print(\"Good you are a few steps away from exit point.\")\n",
    "    \n",
    "    exit_room_input = input(\"You are in exit room, there are two ways left and right. Where would you like to go?\")\n",
    "    if exit_room_input == 'l':\n",
    "        print(\"Oopss, You are in second hunted room.\\nYou are killed!\\nBetter Luck next time.\")\n",
    "    elif exit_room_input == 'r':\n",
    "        print(\"Hurrahhhhhyyyy!\\nYou made it! You've found an exit.\")\n",
    "    else:\n",
    "        print(\"Enter valid input.\")\n",
    "        \n",
    "elif entery_room_input == 'f':\n",
    "    print(\"You are in hundted room.\\nYou are killed!\")\n",
    "    \n",
    "else:\n",
    "    print(\"Enter valid input.\")"
   ]
  },
  {
   "cell_type": "markdown",
   "id": "ddd1118e-9ab6-4421-bb2b-ee56d19cfdbf",
   "metadata": {},
   "source": [
    "## 25)  Build a program that solves a linear equation  for x, considering different cases"
   ]
  },
  {
   "cell_type": "markdown",
   "id": "de276370-fc8a-4608-bb2d-3a6546610d22",
   "metadata": {},
   "source": [
    "### Ans 25)\n",
    "\n",
    "- Note: Linear equation : aX + b = 0 , which contain varaible X, coefficient a and constant b.\n",
    "- X can be calculated as X = -b/a.\n",
    "1) Appoach : convert the given linear equation into complex number expression (real and imaginary part).\n",
    "2) Where value of x can be calculated by taking ratio of real to imaginary part.\n",
    "\n",
    "#### Steps:\n",
    "- Take an equation\n",
    "- Replace '=' sign with '-(' to reverse the sign of RHS part.\n",
    "- Concatenate equation by appending ')' to close the parentheses.\n",
    "- Replace the varaible x with '1j' to convert equation into complex form.\n",
    "- Pass the equation(in string form) to eval() function, which solve the equation and we can access real and imaginary part using real and imag functions.\n",
    "- Find the value of x by taking ratio of real and imaginary part and print it."
   ]
  },
  {
   "cell_type": "code",
   "execution_count": 30,
   "id": "06dc55e7-acd6-4b2d-9c6e-1c7b9a5e8c8b",
   "metadata": {},
   "outputs": [],
   "source": [
    "# take an equation\n",
    "eq = \"x+3=2\""
   ]
  },
  {
   "cell_type": "code",
   "execution_count": 31,
   "id": "a38744fb-d7bf-466f-ac80-fb57f0b9a85f",
   "metadata": {},
   "outputs": [
    {
     "data": {
      "text/plain": [
       "'x+3-(2'"
      ]
     },
     "execution_count": 31,
     "metadata": {},
     "output_type": "execute_result"
    }
   ],
   "source": [
    "# replace '=' sign with '-(' to reverse the sign of RHS part.\n",
    "eq = eq.replace('=','-(')\n",
    "eq"
   ]
  },
  {
   "cell_type": "code",
   "execution_count": 32,
   "id": "5dddb15b-9aee-404b-bf5e-472c661013d5",
   "metadata": {},
   "outputs": [
    {
     "data": {
      "text/plain": [
       "'x+3-(2)'"
      ]
     },
     "execution_count": 32,
     "metadata": {},
     "output_type": "execute_result"
    }
   ],
   "source": [
    "# concatenate equation by appending ')' to close the parentheses.\n",
    "eq = eq + ')'\n",
    "eq"
   ]
  },
  {
   "cell_type": "code",
   "execution_count": 33,
   "id": "a958a4d6-d016-4058-a235-666a5ae57dcc",
   "metadata": {},
   "outputs": [
    {
     "data": {
      "text/plain": [
       "'1j+3-(2)'"
      ]
     },
     "execution_count": 33,
     "metadata": {},
     "output_type": "execute_result"
    }
   ],
   "source": [
    "# replace the varaible x with '1j' to convert equation into complex form.\n",
    "eq = eq.replace(\"x\",\"1j\")\n",
    "eq"
   ]
  },
  {
   "cell_type": "code",
   "execution_count": 37,
   "id": "e95482e0-45fe-4228-a613-60f3fb5440b9",
   "metadata": {},
   "outputs": [],
   "source": [
    "# pass the equation(in string form) to eval() function, which solve the equation and \n",
    "# we can access real and imaginary part using real and imag functions\n",
    "# Linear eq : aX + b = 0 ; X = -b/a\n",
    "\n",
    "b = eval(eq).real\n",
    "a = eval(eq).imag"
   ]
  },
  {
   "cell_type": "code",
   "execution_count": 39,
   "id": "edf9280e-7647-4b89-9597-50c9f0035a47",
   "metadata": {},
   "outputs": [
    {
     "name": "stdout",
     "output_type": "stream",
     "text": [
      "X= -1.0\n"
     ]
    }
   ],
   "source": [
    "# find the value of x by taking ratio of real and imaginary part.\n",
    "print(\"X=\",-b/a)"
   ]
  },
  {
   "cell_type": "code",
   "execution_count": 42,
   "id": "a221d2ce-ca82-4935-8832-35555ed4bf6d",
   "metadata": {},
   "outputs": [
    {
     "name": "stdin",
     "output_type": "stream",
     "text": [
      "Enter linear equation :  x+1=x+1\n"
     ]
    },
    {
     "name": "stdout",
     "output_type": "stream",
     "text": [
      "No solution for the given equation.\n",
      "As value of x is : 0.0\n"
     ]
    }
   ],
   "source": [
    "## combine all the above lines of code \n",
    "equation = input(\"Enter linear equation : \")\n",
    "\n",
    "equation = equation.replace(\"=\",\"-(\")\n",
    "\n",
    "equation = equation + \")\"\n",
    "\n",
    "equation = equation.replace(\"x\",\"1j\")\n",
    "\n",
    "real_part = eval(equation).real\n",
    "imag_part = eval(equation).imag\n",
    "\n",
    "\n",
    "## checking all the cases:\n",
    "if real_part == 0:\n",
    "    print(\"No solution for the given equation.\\nAs value of x is :\",real_part)\n",
    "    \n",
    "elif imag_part == 0:\n",
    "    print(\"Infinite solutions for the given equation.\\nAs value of x is equal to x \")\n",
    "    \n",
    "else:\n",
    "    print(\"Value of X is : \",-(real_part/imag_part))\n",
    "    \n"
   ]
  },
  {
   "cell_type": "markdown",
   "id": "fb44c9f0-4d22-423a-9f33-823a20348c15",
   "metadata": {},
   "source": [
    "## 26)  Write a program that simulates a basic quiz game with multiple-choice questions and scoring"
   ]
  },
  {
   "cell_type": "markdown",
   "id": "8b41ab45-1444-450f-ba23-67940cf45614",
   "metadata": {},
   "source": [
    "### Ans 26)\n",
    "\n",
    "1) Let's create a quiz game with MCQs where user score 5 marks for each correct option.\n",
    "\n",
    "#### Steps:\n",
    "- Display the quiz game and rules of quiz.\n",
    "- Initialise a variable with a value zero.\n",
    "- Write the question using input() function and take option from user.\n",
    "- if option is correct increase the score by 5.\n",
    "- Repeat the above steps for other questions.\n",
    "- Display the final score."
   ]
  },
  {
   "cell_type": "code",
   "execution_count": 19,
   "id": "af7c9856-2766-4fa0-a1d4-6fd6ed90d5ae",
   "metadata": {},
   "outputs": [
    {
     "name": "stdout",
     "output_type": "stream",
     "text": [
      "---------- : Quiz Game : ----------\n",
      "Rules : \n",
      "1) To select any option, enter option number.\n",
      "2) For each correct option, you will get the 5 marks.\n",
      "3) For incorrect marks, no marks will be provided or deducted.\n",
      "4) There are 5 questions in this quiz.\n",
      "5) It is mendatory to attempt all the questions. \n",
      " \n"
     ]
    },
    {
     "name": "stdin",
     "output_type": "stream",
     "text": [
      "Question1 : Which one is not a fruit name ?\n",
      "1) Apple\n",
      "2) Mango\n",
      "3) Lion\n",
      "4) Banana\n",
      " 3\n",
      "Question2 : Which one is a shape ?\n",
      "1) Circle\n",
      "2) Mango\n",
      "3) Lion\n",
      "4) Banana\n",
      " 1\n",
      "Question3 : How many sides in a circle ?\n",
      "1) One\n",
      "2) Two\n",
      "3) Three\n",
      "4) Zero\n",
      " 4\n",
      "Question4 : Select the odd one ?\n",
      "1) 5\n",
      "2) 10\n",
      "3) 15\n",
      "4) 29\n",
      " 4\n",
      "Question5 : Which one is correct syntax in python ?\n",
      "1) if condition\n",
      "2) if condition : \n",
      "3) if ;\n",
      "4) if condition {};\n",
      " 2\n"
     ]
    },
    {
     "name": "stdout",
     "output_type": "stream",
     "text": [
      "Your final score is :  25\n"
     ]
    }
   ],
   "source": [
    "print(\"---------- : Quiz Game : ----------\")\n",
    "print(\"Rules : \\n1) To select any option, enter option number.\\n2) For each correct option, you will get the 5 marks.\\n3) For incorrect marks, no marks will be provided or deducted.\\n4) There are 5 questions in this quiz.\\n5) It is mendatory to attempt all the questions. \\n \")\n",
    "\n",
    "score = 0\n",
    "\n",
    "option1 = int(input(\"Question1 : Which one is not a fruit name ?\\n1) Apple\\n2) Mango\\n3) Lion\\n4) Banana\\n\"))\n",
    "\n",
    "if option1 == 3:\n",
    "    score = score + 5\n",
    "\n",
    "    \n",
    "    \n",
    "option2 = int(input(\"Question2 : Which one is a shape ?\\n1) Circle\\n2) Mango\\n3) Lion\\n4) Banana\\n\"))\n",
    "\n",
    "if option2 == 1:\n",
    "    score = score + 5\n",
    "\n",
    "    \n",
    "\n",
    "option3 = int(input(\"Question3 : How many sides in a circle ?\\n1) One\\n2) Two\\n3) Three\\n4) Zero\\n\"))\n",
    "\n",
    "if option3 == 4:\n",
    "    score = score + 5\n",
    "\n",
    "    \n",
    "\n",
    "option4 = int(input(\"Question4 : Select the odd one ?\\n1) 5\\n2) 10\\n3) 15\\n4) 29\\n\"))\n",
    "\n",
    "if option4 == 4:\n",
    "    score = score + 5\n",
    "\n",
    "    \n",
    "    \n",
    "option5 = int(input(\"Question5 : Which one is correct syntax in python ?\\n1) if condition\\n2) if condition : \\n3) if ;\\n4) if condition {};\\n\"))\n",
    "\n",
    "if option5 == 2:\n",
    "    score = score + 5\n",
    "\n",
    "    \n",
    "print(\"Your final score is : \",score)"
   ]
  },
  {
   "cell_type": "markdown",
   "id": "450c00f4-194f-4f66-8a80-38eb6f04222e",
   "metadata": {},
   "source": [
    "## 27)  Develop a program that determines whether a given year is a prime number or not"
   ]
  },
  {
   "cell_type": "markdown",
   "id": "62860aa0-dabc-4212-a8ba-03e9c3570689",
   "metadata": {},
   "source": [
    "### Ans 27)\n",
    "\n",
    "#### Steps:\n",
    "- Take a year from user.\n",
    "- If year is divisble by any of its below number then year is not a prime number else year is a prime number."
   ]
  },
  {
   "cell_type": "code",
   "execution_count": 24,
   "id": "51fe9240-0092-4137-9c64-f9c009833218",
   "metadata": {},
   "outputs": [
    {
     "name": "stdin",
     "output_type": "stream",
     "text": [
      "Enter a year to check whether it is prime or not :  2023\n"
     ]
    },
    {
     "name": "stdout",
     "output_type": "stream",
     "text": [
      "Year is not a prime number\n"
     ]
    }
   ],
   "source": [
    "inp_yr27 = int(input(\"Enter a year to check whether it is prime or not : \"))\n",
    "\n",
    "def check_prime_yr(num20):\n",
    "    if num20 > 0 :\n",
    "        if num20 == 1:\n",
    "            return print(\"Year is not a prime number.\")\n",
    "        elif num20 == 2:\n",
    "            return print(\"Year is a prime number.\")\n",
    "        else:\n",
    "            for i in range(2,num20):\n",
    "                if num20 % i == 0:\n",
    "                    return print(\"Year is not a prime number\")\n",
    "            return print(\"Year is a prime number\")  \n",
    "\n",
    "    else:\n",
    "        return print(\"Enter a Year greater than zero.\")\n",
    "\n",
    "check_prime_yr(inp_yr27)"
   ]
  },
  {
   "cell_type": "markdown",
   "id": "636e5657-5e6b-4e4b-9928-4664785a5999",
   "metadata": {},
   "source": [
    "## 28)  Create a program that sorts three numbers in ascending order using conditional statements."
   ]
  },
  {
   "cell_type": "markdown",
   "id": "d4724ee8-47d9-486f-ba53-3918bfee8a62",
   "metadata": {},
   "source": [
    "### Ans28)\n",
    "\n",
    "#### Steps:\n",
    "- Take 3 numbers from user and store in variables.\n",
    "- Create a list of 3 numbers using entered numbers.\n",
    "- Apply Bubble sorting to sort the elements in ascending order.\n",
    "- 1) Compare the 1st element with next element if next element is samaller than 1st element then swap both the elements.\n",
    "- 2) Repeat 1st step for all elements of list.\n",
    "- Pack both the steps of code inside a for loop and run it (length of element - 1) times."
   ]
  },
  {
   "cell_type": "code",
   "execution_count": 2,
   "id": "504e3ed2-e2a8-44fb-b4a0-e66b968fa4e5",
   "metadata": {},
   "outputs": [
    {
     "name": "stdin",
     "output_type": "stream",
     "text": [
      "Enter number 1 :  3\n",
      "Enter number 2 :  2\n",
      "Enter number 3 :  1\n"
     ]
    },
    {
     "name": "stdout",
     "output_type": "stream",
     "text": [
      "Given list of numbers : [3, 2, 1]\n",
      "Sorted list of numbers in ascending order : [1, 2, 3]\n"
     ]
    }
   ],
   "source": [
    "num1 = int(input(\"Enter number 1 : \"))\n",
    "num2 = int(input(\"Enter number 2 : \"))\n",
    "num3 = int(input(\"Enter number 3 : \"))\n",
    "\n",
    "\n",
    "list28 = [num1,num2,num3]\n",
    "print(\"Given list of numbers :\",list28)\n",
    "\n",
    "for i in range(len(list28)-1):\n",
    "    for j in range(len(list28)-1):\n",
    "        if list28[j] > list28[j+1]:\n",
    "            list28[j], list28[j+1] = list28[j+1], list28[j]\n",
    "            \n",
    "print(\"Sorted list of numbers in ascending order :\",list28)"
   ]
  },
  {
   "cell_type": "markdown",
   "id": "8b370ae9-c895-448c-98c1-47cf1d024005",
   "metadata": {},
   "source": [
    "## 29)  Build a program that determines the roots of a quartic equation using numerical methods"
   ]
  },
  {
   "cell_type": "markdown",
   "id": "f59ccf63-37cd-4709-ab72-c368379f2196",
   "metadata": {},
   "source": [
    "### Ans 29) \n",
    "\n",
    "1) A 4 order polynomial equation is called Quartic equation.\n",
    "- Quartic eq : X4 + aX3 + bX2 + cX + d = 0\n",
    "\n",
    "- x1 = ((-sqrt(y) + sqrt(y-2(p+y+q/sqrt(y))))/2 - a/4)\n",
    "- x2 = ((-sqrt(y) - sqrt(y-2(p+y+q/sqrt(y))))/2 - a/4)\n",
    "- x3 = ((+sqrt(y) + sqrt(y-2(p+y-q/sqrt(y))))/2 - a/4)\n",
    "- x4 = ((+sqrt(y) - sqrt(y-2(p+y-q/sqrt(y))))/2 - a/4)\n",
    "\n",
    "- Note: where y = an arbitrary solution (a cubic eq)\n",
    "- cubic eq for y : y3 + 2py2 + (p2-4r)y - q2 = 0  which is equivalent to x3 + Ax2 + Bx + C = 0\n",
    "- Here A = 2p , B = (p2-4r) , C = - q2\n",
    "\n",
    "- Note: We only to want to find the one value of cubic eq i.e value of y. Let's find it using following formula :\n",
    "- root of cubic eq : x = cuberoot(-S/2 + sqrt(S2/4 + R3/27)) + cuberoot(-S/2 - sqrt(S2/4 + R3/27)) - a/3\n",
    "- Where S = (2A3 - 9AB + 27C)/27 and R = (3B-A2)/3\n",
    "\n",
    "#### Steps:\n",
    "- Display the quartic equation.\n",
    "- Take the values of a,b,c and d from user to find the roots.\n",
    "- First find the value of p,q and r.\n",
    "- Then find the value of A,B and C.\n",
    "- Then find the value of R and S.\n",
    "- Then find the value of lambda (y).\n",
    "- Put all these values in roots and find all 4 roots.\n",
    "\n",
    "\n",
    "- Reference : "
   ]
  },
  {
   "cell_type": "code",
   "execution_count": 2,
   "id": "16d2478c-5d80-456c-9a0b-c5597ffb7800",
   "metadata": {},
   "outputs": [
    {
     "name": "stdout",
     "output_type": "stream",
     "text": [
      "Quartic equation : x4 + aX3 + bX2 + cX + d = 0 \n",
      "Enter the values of a,b,c and d to find the roots eq : \n"
     ]
    },
    {
     "name": "stdin",
     "output_type": "stream",
     "text": [
      "Enter the value of a :  1\n",
      "Enter the value of b :  1\n",
      "Enter the value of c :  1\n",
      "Enter the value of d :  1\n"
     ]
    },
    {
     "name": "stdout",
     "output_type": "stream",
     "text": [
      "Roots of Given Quartic eq :\n",
      "X1 = (0.4078074096611396+0.7125160060712008j)\n",
      "X2 = (-0.9078074096611396-0.991333504680711j)\n",
      "X3 = (0.4078074096611396-0.7125160060712008j)\n",
      "X4 = (-0.9078074096611396+0.991333504680711j)\n"
     ]
    }
   ],
   "source": [
    "# Get the values of a,b,c and d from user.\n",
    "print(\"Quartic equation : x4 + aX3 + bX2 + cX + d = 0 \\nEnter the values of a,b,c and d to find the roots eq : \")\n",
    "a = int(input(\"Enter the value of a : \"))\n",
    "b = int(input(\"Enter the value of b : \"))\n",
    "c = int(input(\"Enter the value of c : \"))\n",
    "d = int(input(\"Enter the value of d : \"))\n",
    "\n",
    "## find the values of p,q and r.\n",
    "p = (b - (3*a*a)/8)\n",
    "q = (c - (a*b)/2 + (a**3)/8)\n",
    "r = (d - (a*c)/4 + (a*a*b)/16 - (3*a**4)/256)\n",
    "\n",
    "## find the values of A,B and C.\n",
    "A = 2*p\n",
    "B = (p*p - 4*r)\n",
    "C = -(q*q)\n",
    "\n",
    "## Find the values of R and S.\n",
    "R = (3*B - A*A)/3\n",
    "S = ((2*A**3) - (9*A*A) + (27*C))/27\n",
    "\n",
    "## find the root of cubic eq i.e lambda y :\n",
    "y = ((-S/2 + (S*S/4 + R**3/27)**0.5)**1/3) + ((-S/2 - (S*S/4 + R**3/27)**0.5)**1/3) - (a/3)\n",
    "\n",
    "## find the roots of quartic eq by putting all above calculated values.\n",
    "x1 = ((-(y**0.5) + (y-2*(p+y+(q/(y**0.5))))**0.5)/2 - (a/4))\n",
    "x2 = ((-(y**0.5) - (y-2*(p+y+(q/(y**0.5))))**0.5)/2 - (a/4))\n",
    "x3 = (((y**0.5) + (y-2*(p+y-(q/(y**0.5))))**0.5)/2 - (a/4))\n",
    "x4 = (((y**0.5) - (y-2*(p+y-(q/(y**0.5))))**0.5)/2 - (a/4))\n",
    "\n",
    "## print the roots:\n",
    "print(f\"Roots of Given Quartic eq :\\nX1 = {x1}\\nX2 = {x2}\\nX3 = {x3}\\nX4 = {x4}\")"
   ]
  },
  {
   "cell_type": "markdown",
   "id": "9d6cc4db-2f61-42e8-be2a-5017cbf45225",
   "metadata": {},
   "source": [
    "## 30)  Write a program that calculates the BMI (Body Mass Index) and provides health recommendations based on the user's input"
   ]
  },
  {
   "cell_type": "markdown",
   "id": "5522a9a8-a70a-4c44-b4ab-00d697dcee9f",
   "metadata": {},
   "source": [
    "### Ans 30)\n",
    "\n",
    "1) Body Mass Index (BMI)\n",
    "2) Formula : BMI = (weight (kg)/ height sqaure(m2))\n",
    "3) Categorization of BMI : \n",
    "- Below  18.5\t ; Underweight\n",
    "- 18.5 – 24.9\t ; Healthy Weight (normal)\n",
    "- 25.0 – 29.9\t ; Overweight\n",
    "- 30.0 and Above ; Obesity\n",
    "\n",
    "#### Steps:\n",
    "- Take weight in kg and height in meter from user.\n",
    "- Put the values in formula and find the BMI.\n",
    "- check which category it belogs to and print it."
   ]
  },
  {
   "cell_type": "code",
   "execution_count": 22,
   "id": "db2bfc7b-8a2d-4e97-83fd-567a37c4af3b",
   "metadata": {},
   "outputs": [
    {
     "name": "stdin",
     "output_type": "stream",
     "text": [
      "Enter your weight in kg :  70\n",
      "Enter your height in meter :  132\n"
     ]
    },
    {
     "name": "stdout",
     "output_type": "stream",
     "text": [
      "You are underweight as your BMI is :  0.0040174471992653815\n"
     ]
    }
   ],
   "source": [
    "weight30 = float(input(\"Enter your weight in kg : \"))\n",
    "height30 = float(input(\"Enter your height in meter : \"))\n",
    "\n",
    "BMI30 = (weight30 / (height30*height30))\n",
    "\n",
    "if BMI30 < 18.5:\n",
    "    print(\"You are underweight as your BMI is : \",BMI30)\n",
    "elif BMI30 >= 18.5 and BMI30 <= 24.9:\n",
    "    print(\"Your weight normal as your BMI is : \",BMI30)\n",
    "elif BMI30 >= 25.0 and BMI30 <= 29.9:\n",
    "    print(\"You are overweight as your BMI is : \",BMI30)\n",
    "else:\n",
    "    print(\"You are Obese as your BMI is : \",BMI30)\n",
    "    "
   ]
  },
  {
   "cell_type": "markdown",
   "id": "391753b9-78c9-4683-a01a-878aba4ccd6d",
   "metadata": {},
   "source": [
    "# Challenge Level:"
   ]
  },
  {
   "cell_type": "markdown",
   "id": "ed01c71f-12e2-4254-aeb9-e21f722e21f9",
   "metadata": {},
   "source": [
    "## 31) Create a program that validates a password based on complexity rules (length, characters, etc.)"
   ]
  },
  {
   "cell_type": "markdown",
   "id": "3af17d65-bc8a-48e4-a14f-9e54daf364bb",
   "metadata": {},
   "source": [
    "### Ans 31)\n",
    "\n",
    "1) A valid password should meet the following requirements:\n",
    "- Have atleast 8 characters.\n",
    "- Contains a capital letter.\n",
    "- Contains a lowercase.\n",
    "- Contains a number.\n",
    "- Contains an underscore.\n",
    "\n",
    "2) Approach : To check all the above mentioned condition in a password/string we can use following functions.\n",
    "- By using len() function, check the length of the password.\n",
    "- By using isupper() function of string, check whether a character is Capital or not?\n",
    "- By using islower() function of string, check whether a character is Lower case or not?\n",
    "- By using isdigit() function of string, check whether a character is digit or not?\n",
    "- By using comparison operator '==', check whether a character is underscore '_' or not?\n",
    "\n",
    "#### Steps:\n",
    "- Display the rules of password and Take a password from user.\n",
    "- Pass the password to pass_validator() function.\n",
    "- This function returns 'Password is valid' only if all the above mentioned conditions are True, else False."
   ]
  },
  {
   "cell_type": "code",
   "execution_count": 11,
   "id": "0e9954f7-1e39-4854-943e-1e3aba0b2505",
   "metadata": {},
   "outputs": [
    {
     "name": "stdout",
     "output_type": "stream",
     "text": [
      "A valid password should meet the following requirements:\n",
      "1) Have atleast 8 characters.\n",
      "2) Contains a capital letter.\n",
      "3) Contains a lowercase.\n",
      "4) Contains a number.\n",
      "5) Contains an underscore.\n"
     ]
    },
    {
     "name": "stdin",
     "output_type": "stream",
     "text": [
      "Enter your password :  Noorain001\n"
     ]
    },
    {
     "name": "stdout",
     "output_type": "stream",
     "text": [
      "Password is invalid.\n"
     ]
    }
   ],
   "source": [
    "def pass_validator(password):\n",
    "    lower = False\n",
    "    upper = False\n",
    "    digit = False\n",
    "    underscore = False\n",
    "    \n",
    "    if len(password) > 7 :\n",
    "        for char in password:\n",
    "            if char.islower():\n",
    "                lower = True\n",
    "            elif char.isupper():\n",
    "                upper = True\n",
    "            elif char.isdigit():\n",
    "                digit = True\n",
    "            elif char == '_':\n",
    "                underscore = True\n",
    "            else:\n",
    "                return print(\"Password is invalid.\")\n",
    "    else:\n",
    "        return print(\"Password is invalid.\")\n",
    "\n",
    "    if lower and upper and digit and underscore:\n",
    "        return print(\"Password is Valid.\")\n",
    "    else:\n",
    "        return print(\"Password is invalid.\")\n",
    "    \n",
    "\n",
    "## Display the password validating rules.\n",
    "print(\"A valid password should meet the following requirements:\\n1) Have atleast 8 characters.\\n2) Contains a capital letter.\\n3) Contains a lowercase.\\n4) Contains a number.\\n5) Contains an underscore.\")\n",
    "\n",
    "## take password from user.\n",
    "pas = input(\"Enter your password : \")\n",
    "\n",
    "## call the function\n",
    "pass_validator(pas)"
   ]
  },
  {
   "cell_type": "markdown",
   "id": "2d9acdda-3b97-4c66-822f-de78e44327c2",
   "metadata": {},
   "source": [
    "## 32) Develop a program that performs matrix addition and subtraction based on user input."
   ]
  },
  {
   "cell_type": "markdown",
   "id": "65c485e3-7117-4258-815e-06fe6f67c86a",
   "metadata": {},
   "source": [
    "### Ans 32 )\n",
    "\n",
    "- Note: A matrix can be added/subtracted with another matrix if and only if the order of matrices is the same.\n",
    "- i.e The number of rows and columns of 1st matrix equal to the number of rows and columns of 2nd matrix.\n",
    "\n",
    "#### Steps:\n",
    "- Create two matrix matA and matB.\n",
    "- Check whether order of both the martix is equal or not.\n",
    "- Initalise two matrices one to store addition and second to store substraction of both the matrices.\n",
    "- Add/substrac the element of first matrix with second matrix."
   ]
  },
  {
   "cell_type": "code",
   "execution_count": 41,
   "id": "d3b03ed5-94d2-4799-807f-59522e77bb99",
   "metadata": {},
   "outputs": [
    {
     "name": "stdout",
     "output_type": "stream",
     "text": [
      "Given matrix : \n",
      "Matrix A : [[2, 5, 0], [3, 1, 1], [4, 2, 2]]\n",
      "Matrix B : [[0, 1, 0], [2, 1, 2], [3, 4, 5]]\n",
      "Addition of given matrices is : [[2, 6, 0], [5, 2, 3], [7, 6, 7]]\n",
      "Substraction of given matrices is : [[2, 4, 0], [1, 0, -1], [1, -2, -3]]\n"
     ]
    }
   ],
   "source": [
    "matA = [[2,5,0],\n",
    "        [3,1,1],\n",
    "        [4,2,2]]\n",
    "\n",
    "matB = [[0,1,0],\n",
    "        [2,1,2],\n",
    "        [3,4,5]]\n",
    "\n",
    "if (len(matA) == len(matB)) and (len(matA[0]) == len(matB[0])):\n",
    "    matSum = [[0 for j in range(len(matA[0]))] for i in range(len(matA))]\n",
    "    matDiff = [[0 for j in range(len(matA[0]))] for i in range(len(matA))]\n",
    "    \n",
    "    \n",
    "    for i in range(len(matA)):\n",
    "        for j in range(len(matA[0])):\n",
    "            matSum[i][j] = matA[i][j] + matB[i][j]\n",
    "            matDiff[i][j] = matA[i][j] - matB[i][j]\n",
    "            \n",
    "            #print(matA[i][j] + matB[i][j],end = ' ')\n",
    "        #print()\n",
    "else:\n",
    "    print(\"Order of both the given matrix is not equal.\")\n",
    "    \n",
    "    \n",
    "print(f\"Given matrix : \\nMatrix A : {matA}\\nMatrix B : {matB}\")\n",
    "print(f\"Addition of given matrices is : {matSum}\\nSubstraction of given matrices is : {matDiff}\")"
   ]
  },
  {
   "cell_type": "markdown",
   "id": "9abaf6c8-a5e1-4f4e-93ef-43c5fbea7f52",
   "metadata": {},
   "source": [
    "## 33) Write a program that calculates the greatest common divisor (GCD) of two numbers using the Euclidean algorithm."
   ]
  },
  {
   "cell_type": "markdown",
   "id": "91c93bed-73c7-41ec-a650-0737a82c9a22",
   "metadata": {},
   "source": [
    "### Ans 33)\n",
    "- Euclidean algorithm states that the GCD of two numbers does not change if the larger number is replaced by its difference with the smaller number, i.e.,\n",
    "- For : GCD(252, 105) = GCD(252-105, 105) = GCD(147, 105) = 21\n",
    "\n",
    "#### Steps:\n",
    "- Take two numbers from user.\n",
    "- Update the Larger number with the difference (Larger - Smaller).\n",
    "- Now apply the Long division method:\n",
    "- 1) Divide the larger number (dividend) with smaller number (divisor).\n",
    "- 2) If remainder comes out to be zero then divisor will be the GCD.\n",
    "- 3) Else update the dividend with divisor and divisor with remainder.\n",
    "- Repeat these steps untill remiander becomes zero."
   ]
  },
  {
   "cell_type": "code",
   "execution_count": 13,
   "id": "f23c9afc-f663-45ae-acf3-b1fbb393b2cb",
   "metadata": {},
   "outputs": [
    {
     "name": "stdout",
     "output_type": "stream",
     "text": [
      "Enter two numbers to find the greatest common divisor : \n"
     ]
    },
    {
     "name": "stdin",
     "output_type": "stream",
     "text": [
      "Enter number 1 :  3\n",
      "Enter number 2 :  7\n"
     ]
    },
    {
     "data": {
      "text/plain": [
       "1"
      ]
     },
     "execution_count": 13,
     "metadata": {},
     "output_type": "execute_result"
    }
   ],
   "source": [
    "print(\"Enter two numbers to find the greatest common divisor : \")\n",
    "num33_1 = int(input(\"Enter number 1 : \"))\n",
    "num33_2 = int(input(\"Enter number 2 : \"))\n",
    "\n",
    "def gcd(dividend,divisor):\n",
    "    if dividend%divisor == 0:\n",
    "        return divisor\n",
    "    else:\n",
    "        \n",
    "        remainder = dividend%divisor\n",
    "        dividend = divisor\n",
    "        divisor = remainder\n",
    "        return gcd(dividend,divisor)\n",
    "    \n",
    "    \n",
    "gcd(max(num33_1,num33_2),min(num33_1,num33_2))"
   ]
  },
  {
   "cell_type": "markdown",
   "id": "0911d23b-b943-4264-bade-7765650d02c2",
   "metadata": {},
   "source": [
    "## 34) Build a program that performs matrix multiplication using nested loops and conditional statements"
   ]
  },
  {
   "cell_type": "markdown",
   "id": "c2af4eb5-1cea-4665-98e4-268c195836f2",
   "metadata": {},
   "source": [
    "### Ans 34)\n",
    "\n",
    "- Multplication of two matrices is only possible when number of columns of 1st matrix is equal to the number of rows of 2nd matrix.\n",
    "\n",
    "#### Steps:\n",
    "- Create two matrix matA and matB.\n",
    "- Check whether order(number of columns of 1st matrix is equal to the number of rows of 2nd matrix)of both the martix is equal or not.\n",
    "- Initalise a matrix.\n",
    "- Iterate through rows of 1st matrix.\n",
    "- Iterate through columns of 2nd matirx\n",
    "- Iterate through rows of 2nd matrix\n",
    "- first mutply the element then add it with the intialised matrix element."
   ]
  },
  {
   "cell_type": "code",
   "execution_count": 49,
   "id": "be59ca51-0587-45ef-b15c-161d49f9c33f",
   "metadata": {},
   "outputs": [
    {
     "name": "stdout",
     "output_type": "stream",
     "text": [
      "Given matrix : \n",
      "Matrix A : [[2, 5, 0], [3, 1, 1], [4, 2, 2]]\n",
      "Matrix B : [[0, 1, 0], [2, 1, 2], [3, 4, 5]]\n",
      "Multplication of given matrices is : [[10, 7, 10], [5, 8, 7], [10, 14, 14]]\n"
     ]
    }
   ],
   "source": [
    "matA34 = [[2,5,0],\n",
    "        [3,1,1],\n",
    "        [4,2,2]]\n",
    "\n",
    "matB34 = [[0,1,0],\n",
    "        [2,1,2],\n",
    "        [3,4,5]]\n",
    "\n",
    "if len(matA34[0]) == len(matB34):\n",
    "    multMat = [[0 for j in range(len(matB34[0]))] for i in range(len(matA34))]\n",
    "    \n",
    "    # iterate through rows of 1st matrix\n",
    "    for i in range(len(matA34)):\n",
    "       # iterate through columns of 2nd matirx\n",
    "       for j in range(len(matB34[0])):\n",
    "           # iterate through rows of 2nd matrix\n",
    "           for k in range(len(matB34)):\n",
    "                multMat[i][j] += matA34[i][k] * matB34[k][j]\n",
    "            \n",
    "else:\n",
    "    print(\"Order of matrix is not correct.\")\n",
    "    \n",
    "print(f\"Given matrix : \\nMatrix A : {matA34}\\nMatrix B : {matB34}\")\n",
    "print(f\"Multplication of given matrices is : {multMat}\")"
   ]
  },
  {
   "cell_type": "markdown",
   "id": "fcede898-af50-46cb-ac0f-79cc8e0ddaf9",
   "metadata": {},
   "source": [
    "## 35) Create a program that simulates a basic test- based tic-tac-toe game against the computer."
   ]
  },
  {
   "cell_type": "markdown",
   "id": "165fa10a-c373-4869-8b48-5f93da0f7822",
   "metadata": {},
   "source": [
    "### Ans 35)\n",
    "\n",
    "- Approach : \n",
    "- 1) A Tic-Tax-Toe game is played on a 3x3 board. Which can be created by a matrix of 3x3.\n",
    "- 2) It is played between two players. Say you (you have to enter input manually) and computer(input is entered automatically).\n",
    "- 3) Board is filled by two signs. Say X (your sign) and O (computer's sign).\n",
    "- Winner is decided based on following conditions:\n",
    "- 1) If any of the three rows of board is filled by same sign\n",
    "- 2) or if any of the diagonal of the board is filled by same sign.\n",
    "- 3) or if any of the column of the board is filled by same sign then sign holder will be winner.\n",
    "\n",
    "#### Steps:\n",
    "- To create this game, for each sub task  create a seperate function for better understanding and debugging.\n",
    "- Create a board of 3x3. By defining InitialiseBoard() function.\n",
    "- For your turn do following things:\n",
    "- 1) take input from user. By defining your_inp() function.\n",
    "- 2) fill value into board. By defining FillValueInBoardForYou() function.\n",
    "- 3) display the updated board. By defining UpdatedBoard() function.\n",
    "- For Computer turn do following things:\n",
    "- 1) take input from computer using random module in given range (1,9) without defining any function for it.\n",
    "- 2) fill value into board. By defining FillValueInBoardForBot() function.\n",
    "- 3) display the updated board. By defining UpdatedBoard() function. (same function)\n",
    "- Decide the winner by defining WinLose() function."
   ]
  },
  {
   "cell_type": "code",
   "execution_count": 2,
   "id": "cd8ffb0e-75a2-4a86-aef7-25ef4c74c78c",
   "metadata": {},
   "outputs": [],
   "source": [
    "import random\n",
    "import time\n",
    "\n",
    "def InitialiseBoard():\n",
    "    ## create a 3x3 board\n",
    "    global board\n",
    "    board = [[None for j in range(3)] for i in range(3)]\n",
    "    "
   ]
  },
  {
   "cell_type": "code",
   "execution_count": 4,
   "id": "06518c23-0673-427d-ab94-06213475098e",
   "metadata": {},
   "outputs": [],
   "source": [
    "def your_inp():\n",
    "    ''' It takes input from user in range 1-9 and return it'''\n",
    "    \n",
    "    inp = int(input(\"Enter the number 1-9 : \"))\n",
    "    return inp"
   ]
  },
  {
   "cell_type": "code",
   "execution_count": 5,
   "id": "3423359b-eb23-4335-8d90-c0fb7cd0909f",
   "metadata": {},
   "outputs": [],
   "source": [
    "## fill value into the board according to the input\n",
    "def FillValueInBoardForYou(inp):\n",
    "    '''This function takes a value and fill it into the board if space is not occupied.'''\n",
    "    \n",
    "    if inp == 1:\n",
    "        if board[0][0] == None:\n",
    "            board[0][0] = 'X'\n",
    "        else:\n",
    "            print(\"Space is occupied.Enter a number other than\",inp)\n",
    "            inp = your_inp()\n",
    "            FillValueInBoardForYou(inp)\n",
    "    elif inp == 2:\n",
    "        if board[0][1] == None:\n",
    "            board[0][1] = 'X'\n",
    "        else:\n",
    "            print(\"Space is occupied.Enter a number other than\",inp)\n",
    "            inp = your_inp()\n",
    "            FillValueInBoardForYou(inp)\n",
    "    elif inp == 3:\n",
    "        if board[0][2] == None:\n",
    "            board[0][2] = 'X'\n",
    "        else:\n",
    "            print(\"Space is occupied.Enter a number other than\",inp)\n",
    "            inp = your_inp()\n",
    "            FillValueInBoardForYou(inp)\n",
    "    elif inp == 4:\n",
    "        if board[1][0] == None:\n",
    "            board[1][0] = 'X'\n",
    "        else:\n",
    "            print(\"Space is occupied.Enter a number other than\",inp)\n",
    "            inp = your_inp()\n",
    "            FillValueInBoardForYou(inp)\n",
    "    elif inp == 5:\n",
    "        if board[1][1] == None:\n",
    "            board[1][1] = 'X'\n",
    "        else:\n",
    "            print(\"Space is occupied.Enter a number other than\",inp)\n",
    "            inp = your_inp()\n",
    "            FillValueInBoardForYou(inp)\n",
    "    elif inp == 6:\n",
    "        if board[1][2] == None:\n",
    "            board[1][2] = 'X'\n",
    "        else:\n",
    "            print(\"Space is occupied.Enter a number other than\",inp)\n",
    "            inp = your_inp()\n",
    "            FillValueInBoardForYou(inp)\n",
    "    elif inp == 7:\n",
    "        if board[2][0] == None:\n",
    "            board[2][0] = 'X'\n",
    "        else:\n",
    "            print(\"Space is occupied.Enter a number other than\",inp)\n",
    "            inp = your_inp()\n",
    "            FillValueInBoardForYou(inp)\n",
    "    elif inp == 8:\n",
    "        if board[2][1] == None:\n",
    "            board[2][1] = 'X'\n",
    "        else:\n",
    "            print(\"Space is occupied.Enter a number other than\",inp)\n",
    "            inp = your_inp()\n",
    "            FillValueInBoardForYou(inp)\n",
    "    elif inp == 9:\n",
    "        if board[2][2] == None:\n",
    "            board[2][2] = 'X'\n",
    "        else:\n",
    "            print(\"Space is occupied.Enter a number other than\",inp)\n",
    "            inp = your_inp()\n",
    "            FillValueInBoardForYou(inp)\n",
    "\n",
    "    else:\n",
    "        print(\"Enter value in range of 1-9 only : \")"
   ]
  },
  {
   "cell_type": "code",
   "execution_count": 6,
   "id": "fe1ac966-cf0a-4045-8706-33a790abc60d",
   "metadata": {},
   "outputs": [],
   "source": [
    "## fill value into the board according to the input\n",
    "def FillValueInBoardForBot(inp):\n",
    "    '''This function takes a value and fill it into the board if space is not occupied.'''\n",
    "    \n",
    "    if inp == 1:\n",
    "        if board[0][0] == None:\n",
    "            board[0][0] = 'O'\n",
    "        else:\n",
    "            print(\"Space is occupied.Enter a number other than\",inp)\n",
    "            FillValueInBoardForBot(random.randint(1,9))\n",
    "    elif inp == 2:\n",
    "        if board[0][1] == None:\n",
    "            board[0][1] = 'O'\n",
    "        else:\n",
    "            print(\"Space is occupied.Enter a number other than\",inp)\n",
    "            FillValueInBoardForBot(random.randint(1,9))\n",
    "    elif inp == 3:\n",
    "        if board[0][2] == None:\n",
    "            board[0][2] = 'O'\n",
    "        else:\n",
    "            print(\"Space is occupied.Enter a number other than\",inp)\n",
    "            FillValueInBoardForBot(random.randint(1,9))\n",
    "    elif inp == 4:\n",
    "        if board[1][0] == None:\n",
    "            board[1][0] = 'O'\n",
    "        else:\n",
    "            print(\"Space is occupied.Enter a number other than\",inp)\n",
    "            FillValueInBoardForBot(random.randint(1,9))\n",
    "    elif inp == 5:\n",
    "        if board[1][1] == None:\n",
    "            board[1][1] = 'O'\n",
    "        else:\n",
    "            print(\"Space is occupied.Enter a number other than\",inp)\n",
    "            FillValueInBoardForBot(random.randint(1,9))\n",
    "    elif inp == 6:\n",
    "        if board[1][2] == None:\n",
    "            board[1][2] = 'O'\n",
    "        else:\n",
    "            print(\"Space is occupied.Enter a number other than\",inp)\n",
    "            FillValueInBoardForBot(random.randint(1,9))\n",
    "    elif inp == 7:\n",
    "        if board[2][0] == None:\n",
    "            board[2][0] = 'O'\n",
    "        else:\n",
    "            print(\"Space is occupied.Enter a number other than\",inp)\n",
    "            FillValueInBoardForBot(random.randint(1,9))\n",
    "    elif inp == 8:\n",
    "        if board[2][1] == None:\n",
    "            board[2][1] = 'O'\n",
    "        else:\n",
    "            print(\"Space is occupied.Enter a number other than\",inp)\n",
    "            FillValueInBoardForBot(random.randint(1,9))\n",
    "    elif inp == 9:\n",
    "        if board[2][2] == None:\n",
    "            board[2][2] = 'O'\n",
    "        else:\n",
    "            print(\"Space is occupied.Enter a number other than\",inp)\n",
    "            FillValueInBoardForBot(random.randint(1,9))\n",
    "\n",
    "    else:\n",
    "        print(\"Enter value in range of 1-9 only : \")"
   ]
  },
  {
   "cell_type": "code",
   "execution_count": 7,
   "id": "976bb5af-57a0-41a9-a1e6-adfac17a07b1",
   "metadata": {},
   "outputs": [],
   "source": [
    "def UpdatedBoard(string):\n",
    "    '''This function dispaly the updated board after each turn.'''\n",
    "    \n",
    "    print(f\"Updated Board after {string} turn : \")\n",
    "    print(board[0])\n",
    "    print(board[1])\n",
    "    print(board[2])"
   ]
  },
  {
   "cell_type": "code",
   "execution_count": 8,
   "id": "c079765c-d7b9-4bef-b0ba-584f1cd0495a",
   "metadata": {},
   "outputs": [],
   "source": [
    "def your_turn():\n",
    "    your_input = your_inp()\n",
    "    print()\n",
    "    FillValueInBoardForYou(your_input)\n",
    "    #time.sleep(5)\n",
    "    \n",
    "    UpdatedBoard('Your')\n",
    "    print()\n",
    "    \n",
    "def bot_turn():\n",
    "    bot_input = random.randint(1,9)\n",
    "    print()\n",
    "    \n",
    "    FillValueInBoardForBot(bot_input)\n",
    "    #time.sleep(5)\n",
    "    \n",
    "    UpdatedBoard('Bot')\n",
    "    print()"
   ]
  },
  {
   "cell_type": "code",
   "execution_count": 9,
   "id": "d3bdd520-8353-4aef-b0fa-add98af2ec01",
   "metadata": {},
   "outputs": [],
   "source": [
    "def play():\n",
    "    print(\"Your turn.\")\n",
    "    your_turn()\n",
    "    \n",
    "    print(\"Bot turn.\")\n",
    "    bot_turn()"
   ]
  },
  {
   "cell_type": "code",
   "execution_count": 10,
   "id": "a99007fd-21e0-420a-983d-ca0705af32c4",
   "metadata": {},
   "outputs": [],
   "source": [
    "\n",
    "def WinLose():\n",
    "    '''This function check the board and decide who win...'''\n",
    "    \n",
    "    if all('X' for i in board[0]):\n",
    "        return print(\"You win\")\n",
    "    elif all('X' for i in board[1]):\n",
    "        return print(\"You win\")\n",
    "    elif all('X' for i in board[2]):\n",
    "        return print(\"You win\")\n",
    "    elif board[0][0] == board[1][1] == board[2][2] == 'X':\n",
    "        return print(\"You win\")\n",
    "    elif board[2][0] == board[1][1] == board[0][2] == 'X':\n",
    "        return print(\"You win\")\n",
    "    elif board[0][0] == board[1][0] == board[2][0] == 'X':\n",
    "        return print(\"You win\")\n",
    "    elif board[0][1] == board[1][1] == board[2][1] == 'X':\n",
    "        return print(\"You win\")\n",
    "    elif board[0][2] == board[1][2] == board[2][2] == 'X':\n",
    "        return print(\"You win\")\n",
    "\n",
    "    ## condition for bot\n",
    "    elif all('O' for i in board[0]):\n",
    "        return print(\"You Lose!\")\n",
    "    elif all('O' for i in board[1]):\n",
    "        return print(\"You Lose!\")\n",
    "    elif all('O' for i in board[2]):\n",
    "        return print(\"You Lose!\")\n",
    "    elif board[0][0] == board[1][1] == board[2][2] == 'O':\n",
    "        return print(\"You Lose!\")\n",
    "    elif board[2][0] == board[1][1] == board[0][2] == 'O':\n",
    "        return print(\"You Lose!\")\n",
    "    elif board[0][0] == board[1][0] == board[2][0] == 'O':\n",
    "        return print(\"You Lose!\")\n",
    "    elif board[0][1] == board[1][1] == board[2][1] == 'O':\n",
    "        return print(\"You Lose!\")\n",
    "    elif board[0][2] == board[1][2] == board[2][2] == 'O':\n",
    "        return print(\"You Lose!\")\n",
    "\n",
    "    else:\n",
    "        return print(\"Match Draw.\")"
   ]
  },
  {
   "cell_type": "code",
   "execution_count": 12,
   "id": "f09c974e-2c20-4be0-b1e6-86b20846edd3",
   "metadata": {},
   "outputs": [
    {
     "name": "stdout",
     "output_type": "stream",
     "text": [
      "-----------: Welcome to the Tic - Tac - Toe Game :----------- \n",
      "Guide :\n",
      "1) X :  Cross/Fork is your sign.\n",
      "2) O : circle is computer's sign.\n",
      "3) You only have enter number in between 1-9.\n",
      "4) You have to play untill all the spaces are occupied.\n",
      "Your turn.\n"
     ]
    },
    {
     "name": "stdin",
     "output_type": "stream",
     "text": [
      "Enter the number 1-9 :  3\n"
     ]
    },
    {
     "name": "stdout",
     "output_type": "stream",
     "text": [
      "\n",
      "Updated Board after Your turn : \n",
      "[None, None, 'X']\n",
      "[None, None, None]\n",
      "[None, None, None]\n",
      "\n",
      "Bot turn.\n",
      "\n",
      "Space is occupied.Enter a number other than 3\n",
      "Updated Board after Bot turn : \n",
      "[None, 'O', 'X']\n",
      "[None, None, None]\n",
      "[None, None, None]\n",
      "\n",
      "Your turn.\n"
     ]
    },
    {
     "name": "stdin",
     "output_type": "stream",
     "text": [
      "Enter the number 1-9 :  5\n"
     ]
    },
    {
     "name": "stdout",
     "output_type": "stream",
     "text": [
      "\n",
      "Updated Board after Your turn : \n",
      "[None, 'O', 'X']\n",
      "[None, 'X', None]\n",
      "[None, None, None]\n",
      "\n",
      "Bot turn.\n",
      "\n",
      "Updated Board after Bot turn : \n",
      "[None, 'O', 'X']\n",
      "[None, 'X', None]\n",
      "[None, None, 'O']\n",
      "\n",
      "Your turn.\n"
     ]
    },
    {
     "name": "stdin",
     "output_type": "stream",
     "text": [
      "Enter the number 1-9 :  7\n"
     ]
    },
    {
     "name": "stdout",
     "output_type": "stream",
     "text": [
      "\n",
      "Updated Board after Your turn : \n",
      "[None, 'O', 'X']\n",
      "[None, 'X', None]\n",
      "['X', None, 'O']\n",
      "\n",
      "Bot turn.\n",
      "\n",
      "Updated Board after Bot turn : \n",
      "[None, 'O', 'X']\n",
      "[None, 'X', None]\n",
      "['X', 'O', 'O']\n",
      "\n",
      "Your turn.\n"
     ]
    },
    {
     "name": "stdin",
     "output_type": "stream",
     "text": [
      "Enter the number 1-9 :  6\n"
     ]
    },
    {
     "name": "stdout",
     "output_type": "stream",
     "text": [
      "\n",
      "Updated Board after Your turn : \n",
      "[None, 'O', 'X']\n",
      "[None, 'X', 'X']\n",
      "['X', 'O', 'O']\n",
      "\n",
      "Bot turn.\n",
      "\n",
      "Space is occupied.Enter a number other than 8\n",
      "Space is occupied.Enter a number other than 6\n",
      "Space is occupied.Enter a number other than 3\n",
      "Space is occupied.Enter a number other than 7\n",
      "Space is occupied.Enter a number other than 7\n",
      "Space is occupied.Enter a number other than 9\n",
      "Updated Board after Bot turn : \n",
      "['O', 'O', 'X']\n",
      "[None, 'X', 'X']\n",
      "['X', 'O', 'O']\n",
      "\n",
      "Match result :\n",
      "You win\n"
     ]
    }
   ],
   "source": [
    "print(\"-----------: Welcome to the Tic - Tac - Toe Game :----------- \")\n",
    "print(\"Guide :\\n1) X :  Cross/Fork is your sign.\\n2) O : circle is computer's sign.\\n3) You only have enter number in between 1-9.\\n4) You have to play untill all the spaces are occupied.\")\n",
    "\n",
    "\n",
    "## Create the board:\n",
    "InitialiseBoard()\n",
    "\n",
    "## play the game 4 times\n",
    "for i in range(4):\n",
    "    play()\n",
    "\n",
    "## Check the result of match:\n",
    "print(\"Match result :\")\n",
    "WinLose()"
   ]
  },
  {
   "cell_type": "markdown",
   "id": "33047ba9-3d55-493c-8649-b4323c36fe1c",
   "metadata": {},
   "source": [
    "## 36)Write a program that generates Fibonacci numbers up to a specified term using iterative methods."
   ]
  },
  {
   "cell_type": "markdown",
   "id": "38c64f87-a031-4210-9d9e-60218c6f0196",
   "metadata": {},
   "source": [
    "### Ans 36)\n",
    "\n",
    "1) Formula to generate Fibonacci number  : F(n) = F(n-1) + F(n-2)\n",
    "\n",
    "#### Steps :\n",
    "- Take a number from user to generate fibonacce number.\n",
    "- Initialise base cases of fibonacci series i.e F(0) = 0 , F(1) = 1, and initialise next num by  zero.\n",
    "- Run the loop till n times and print the value of f0 in each iteration."
   ]
  },
  {
   "cell_type": "code",
   "execution_count": 3,
   "id": "3ec01830-5f59-4e2f-bef4-ee87777a1973",
   "metadata": {},
   "outputs": [
    {
     "name": "stdin",
     "output_type": "stream",
     "text": [
      "Enter the value of n to generate Fibonacci numbers up to n :  10\n"
     ]
    },
    {
     "name": "stdout",
     "output_type": "stream",
     "text": [
      "Fibonacci numbers/sequence up to n : \n",
      "0 1 1 2 3 5 8 13 21 34 "
     ]
    }
   ],
   "source": [
    "num = int(input(\"Enter the value of n to generate Fibonacci numbers up to n : \"))\n",
    "next_sum = 0\n",
    "f0 = 0\n",
    "f1 = 1\n",
    "\n",
    "print(\"Fibonacci numbers/sequence up to n : \")\n",
    "for i in range(num):\n",
    "    print(f0,end=' ')\n",
    "    next_sum = f0+f1\n",
    "    f0,f1 = f1,next_sum"
   ]
  },
  {
   "cell_type": "markdown",
   "id": "57ddf91c-9b70-4ce2-b9e1-d70971e27bf2",
   "metadata": {},
   "source": [
    "## 37) Develop a program that calculates the nth term of the Fibonacci sequence using memoization"
   ]
  },
  {
   "cell_type": "markdown",
   "id": "37976a20-71a7-44df-9cec-acd04a685fca",
   "metadata": {},
   "source": [
    "### Ans 37)\n",
    "\n",
    "- Formula of Fibonacci Number : F(n) = F(n-1) + F(n-2)\n",
    "\n",
    "1) Memoization is a dynamic programming technique that uses an array called as \"Dp array\" to store the results.\n",
    "2) By using memoization we find the next result by using previously stored result.\n",
    "\n",
    "#### Steps:\n",
    "- Take a number from user to find the nth term of the fibonacci sequence.\n",
    "- Create a dp array of size n with None values.\n",
    "- For the base cases of Fibonacci series , store the 0th and 1st values as 0 and 1.\n",
    "- Run the loop from 2 till n times to find the next numbers.\n",
    "- Finally print the nth number of dp array."
   ]
  },
  {
   "cell_type": "code",
   "execution_count": 3,
   "id": "df56f767-1866-4e27-b5a8-e7dbdaba8bc6",
   "metadata": {},
   "outputs": [
    {
     "name": "stdin",
     "output_type": "stream",
     "text": [
      "Enter a number to find the nth term of the fibonacci sequence :  5\n"
     ]
    },
    {
     "name": "stdout",
     "output_type": "stream",
     "text": [
      "5th term of Fibonnaci sequence is : 3\n"
     ]
    }
   ],
   "source": [
    "num37 = int(input(\"Enter a number to find the nth term of the fibonacci sequence : \"))\n",
    "\n",
    "## create a dp array\n",
    "dp_array = [None] * num37\n",
    "\n",
    "## base case :\n",
    "dp_array[0] = 0\n",
    "dp_array[1] = 1\n",
    "\n",
    "# run the loop:\n",
    "for i in range(2,num37):\n",
    "    dp_array[i] = dp_array[i-1] + dp_array[i-2]\n",
    "    \n",
    "## print the result\n",
    "print(f\"{num37}th term of Fibonnaci sequence is : {dp_array[num37-1]}\")"
   ]
  },
  {
   "cell_type": "markdown",
   "id": "5c8ded07-f0cd-42bd-8675-8c49545d8ae9",
   "metadata": {},
   "source": [
    "## 38) Create a program that generates a calendar for a given month and year using conditional statements.\n"
   ]
  },
  {
   "cell_type": "markdown",
   "id": "4d39f845-29dc-4c89-a476-5a7910bc8557",
   "metadata": {},
   "source": [
    "### Ans 38) \n",
    "\n",
    "- Approach : We know that except month of february, number of day in all other months are constant.To know the number of days in february it is necessary to know whether a given year is a leap yr or not?\n",
    "- If given year is leap year then number of days in feb ; 29days else 28 days.\n",
    "\n",
    "#### Steps:\n",
    "- Take a month name and a year from user.\n",
    "- First check year is leap yr or not.\n",
    "- Then compare the given month name with all conditions then pass the number of days for that month to calendaer_generator function to generate the calender."
   ]
  },
  {
   "cell_type": "code",
   "execution_count": 12,
   "id": "f38c0f20-2279-4125-a7ae-8aaea91d84ec",
   "metadata": {},
   "outputs": [
    {
     "name": "stdout",
     "output_type": "stream",
     "text": [
      "Enter a month name and a year to generate a calendar :\n"
     ]
    },
    {
     "name": "stdin",
     "output_type": "stream",
     "text": [
      "Enter the month name :  february\n",
      "Enter a year :  2023\n"
     ]
    },
    {
     "name": "stdout",
     "output_type": "stream",
     "text": [
      "Calendar for given month and year :  february 2023\n",
      "1 2 3 4 5 \n",
      "6 7 8 9 10 \n",
      "11 12 13 14 15 \n",
      "16 17 18 19 20 \n",
      "21 22 23 24 25 \n",
      "26 27 28 \n",
      "\n"
     ]
    }
   ],
   "source": [
    "print(\"Enter a month name and a year to generate a calendar :\")\n",
    "month = input(\"Enter the month name : \").lower()\n",
    "year = int(input(\"Enter a year : \"))\n",
    "leap = ''\n",
    "\n",
    "\n",
    "## a fucntion that printe the calender for given month\n",
    "def calendar_generator(end_day):\n",
    "    print(\"Calendar for given month and year : \",month , year)\n",
    "    num = 1\n",
    "    for i in range(7):\n",
    "        for j in range(5):\n",
    "            if num > end_day:\n",
    "                break\n",
    "            print(num,end = ' ')\n",
    "            num += 1\n",
    "\n",
    "        print()\n",
    "        \n",
    "        \n",
    "        \n",
    "## code to check a year is a leap year or not\n",
    "if (year%400 == 0) or (year%4==0 and year%100!=0):\n",
    "    leap = 'leap year'\n",
    "else:\n",
    "    leap = 'not a leap year'\n",
    "    \n",
    "## code to generate a calendar for a given yr and a month\n",
    "if month == 'january':\n",
    "    calendar_generator(31)\n",
    "elif month == 'february':\n",
    "    if leap == 'leap year':\n",
    "        calendar_generator(29)\n",
    "    else:\n",
    "        calendar_generator(28)\n",
    "elif month == 'march':\n",
    "    calendar_generator(31)\n",
    "elif month == 'april':\n",
    "    calendar_generator(30)\n",
    "elif month == 'may':\n",
    "    calendar_generator(31)\n",
    "elif month == 'june':\n",
    "    calendar_generator(30)\n",
    "elif month == 'july':\n",
    "    calendar_generator(31)\n",
    "elif month == 'august':\n",
    "    calendar_generator(31)\n",
    "elif month == 'september':\n",
    "    calendar_generator(30)\n",
    "elif month == 'october':\n",
    "    calendar_generator(31)\n",
    "elif month == 'novermber':\n",
    "    calendar_generator(30)\n",
    "elif month == 'december':\n",
    "    calendar_generator(31)\n",
    "else:\n",
    "    print(\"Enter a valid month name.\")\n",
    "    \n"
   ]
  },
  {
   "cell_type": "markdown",
   "id": "a19e08c4-0a76-4926-8e01-955017991631",
   "metadata": {},
   "source": [
    "## 39) Build a program that simulates a basic text-based blackjack game against the computer"
   ]
  },
  {
   "cell_type": "markdown",
   "id": "5843e1be-922c-4c67-8972-3ad998656263",
   "metadata": {},
   "source": [
    "### Ans 39)\n",
    "\n",
    "- Blackjack game can be played with more than 2 players but right now we are building a program for two players.\n",
    "- Rules of this game:\n",
    "1) This game will be played between two players you and dealer(computer).\n",
    "2) You will get two cards(randomly from deck of cards) and based on cards you will recieve some points.\n",
    "3) Points :\n",
    "- i) 11 points if card is Ace.\n",
    "- ii) 10 points if card is among any of (Jack, King and Queen).\n",
    "- iii) For other cards points are equal to the number mentioned on it. \n",
    "4) Winning conditions :\n",
    "- i) If you scored 21 points you win.\n",
    "- ii) If you scored points more than dealer's point but less than 22, you win.\n",
    "5) Lose conditions : \n",
    "- i) If you scored more than 21 points you lose.\n",
    "- ii) If you scored less then dealer's point, you lose.\n",
    "\n",
    "\n",
    "#### Steps:\n",
    "- First of break the game into small parts and create sub fucntion for each sub part of the game.\n",
    "- Create a welcom() function to display the rules of BlackJack game.\n",
    "- Create a CreateDeck() function, that creates a list of tuples of cards and its category and return shuffled deck of cards.\n",
    "- Create a CardPoints()function to assign the points based on card. It takes tuple of card and return the point according to the point conditions mentioned above.\n",
    "- Create a player_turn() function that does following things:\n",
    "- 1) Takes deck of shuffled card.\n",
    "- 2) Display list of two cards after picking two random cards from deck.\n",
    "- 3) Display your score (by calling cardpoint() function).\n",
    "- 4) Then takes user input (play/stop), if player chosed play then a random card is added to your card list then score is calculted and displayed accordingly, this process will be continued untill player choose stop option.\n",
    "- 5) returns player's card and score, dealer's card and score.\n",
    "- Create a dealer_turn() function that do the same as player_turn function.\n",
    "- Create a decide_winner() function that decide the winner based on score and above mentioned conditions.\n",
    "- Now pack all these fucntions inside by creating a new function StartGame() that calls each function mentioned above.\n",
    "- Now call the StartGame() funtion and play the game."
   ]
  },
  {
   "cell_type": "code",
   "execution_count": 16,
   "id": "7b842c9a-db91-4107-b917-82255c17204e",
   "metadata": {},
   "outputs": [],
   "source": [
    "import random \n",
    "\n",
    "def welcome():\n",
    "    print(\"----------: Welcome to the text-based Blackjack Game :----------\")\n",
    "    print(\"Rules of this game:\")\n",
    "    print(\"1) This game will be played between two players you and dealer(computer).\")\n",
    "    print(\"2) You will get two cards and based on cards you will recieve some points.\")\n",
    "    print(\"3) Points :\\ni) 11 points for Ace.\\nii) 10 points for cards (Jack, King and Queen).\\niii) For other cards points are equal to the number mentioned on it. \")\n",
    "    print(\"4) Winning condition :\\ni) If you scored 21 points you win.\\nii) If you scored points more than dealer's point but less than 22, you win.\")\n",
    "    print(\"5) Lose condition : \\ni) If you scored more than 21 points you lose.\\nii) If you scored less then dealer's point, you lose.\\n\")\n",
    "    print(\"Start the Game : \\n\")\n",
    "    \n",
    "    \n",
    "\n",
    "    \n",
    "    \n",
    "def CreateDeck():\n",
    "    '''This function create a deck of cards of each category Which can be access globally.'''\n",
    "    \n",
    "    \n",
    "    # create a list of card categories\n",
    "    card_categories = ['Hearts', 'Diamonds', 'Clubs', 'Spades'] \n",
    "    # create a list of cards for each category.\n",
    "    cards_list = ['Ace', 2, 3, 4, 5, 6, 7, 8, 9, 10, 'Jack', 'Queen', 'King'] \n",
    "    # create a list of tuple of card and its category.\n",
    "    deck = [(card, category) for category in card_categories for card in cards_list] \n",
    "    # shuffle deck of cards before distributing\n",
    "    random.shuffle(deck) \n",
    "    \n",
    "    return deck\n",
    "\n",
    "    \n",
    "    \n",
    "def CardPoints(card_tuple): \n",
    "\tif card_tuple[0] in ['Jack', 'Queen', 'King']: \n",
    "\t\treturn 10\n",
    "\telif card_tuple[0] == 'Ace': \n",
    "\t\treturn 11\n",
    "\telse: \n",
    "\t\treturn card_tuple[0]\n",
    "\n",
    "\n",
    "\n",
    "def player_turn(deck):\n",
    "    player_card = [deck.pop(), deck.pop()]\n",
    "    dealer_card = [deck.pop(), deck.pop()] \n",
    "    \n",
    "    \n",
    "    while True: \n",
    "        player_score = sum(CardPoints(card) for card in player_card) \n",
    "        dealer_score = sum(CardPoints(card) for card in dealer_card) \n",
    "        print(\"Cards Player Has:\", player_card) \n",
    "        print(\"Your's Points :\", player_score) \n",
    "        print(\"\\n\") \n",
    "        \n",
    "        choice = input('What do you want? [\"play\" to request another card, \"stop\" to Stand]: ').lower() \n",
    "        if choice == \"play\": \n",
    "            new_card = deck.pop() \n",
    "            player_card.append(new_card) \n",
    "        elif choice == \"stop\": \n",
    "            break\n",
    "        else: \n",
    "            print(\"Invalid choice. Please try again.\") \n",
    "            continue\n",
    "\n",
    "    return player_card, dealer_card, player_score, dealer_score\n",
    "\n",
    "\n",
    "\n",
    "def dealer_turn(dealer_card , dealer_score):\n",
    " \n",
    "    while dealer_score < 17: \n",
    "        new_card = deck.pop() \n",
    "        dealer_card.append(new_card) \n",
    "        dealer_score += CardPoints(new_card) \n",
    "\n",
    "    print(\"Cards Dealer Has:\", dealer_card) \n",
    "    print(\"Score Of The Dealer:\", dealer_score) \n",
    "    print(\"\\n\") \n",
    "    \n",
    "    return dealer_card , dealer_score\n",
    "\n",
    "    \n",
    "def decide_winner(player_card, dealer_card, player_score, dealer_score):\n",
    "    if player_score > 21: \n",
    "        print(\"Cards Dealer Has   :\", dealer_card) \n",
    "        print(\"Score Of The Dealer:\", dealer_score) \n",
    "        print(\"Cards you have     :\", player_card) \n",
    "        print(\"Your Score         :\", player_score)\n",
    "        print(\"\\nDealer wins (Your Score is exceeding 21 )\")\n",
    "    elif dealer_score > 21: \n",
    "        print(\"Cards Dealer Has   :\", dealer_card) \n",
    "        print(\"Score Of The Dealer:\", dealer_score) \n",
    "        print(\"Cards you have     :\", player_card) \n",
    "        print(\"Your Score         :\", player_score)\n",
    "        print(\"\\nCongratulations!! You win (Dealer Loss Because Dealer Score is exceeding 21)\") \n",
    "    elif player_score > dealer_score: \n",
    "        print(\"Cards Dealer Has   :\", dealer_card) \n",
    "        print(\"Score Of The Dealer:\", dealer_score) \n",
    "        print(\"Cards you have     :\", player_card) \n",
    "        print(\"Your Score         :\", player_score)\n",
    "        print(\"\\nCongratulations!! You win (Player Has High Score than Dealer)\") \n",
    "    elif dealer_score > player_score: \n",
    "        print(\"Cards Dealer Has   :\", dealer_card) \n",
    "        print(\"Score Of The Dealer:\", dealer_score) \n",
    "        print(\"Cards you have     :\", player_card) \n",
    "        print(\"Your Score         :\", player_score)\n",
    "        print(\"\\nDealer wins (Dealer Has High Score than Player)\") \n",
    "    else: \n",
    "        print(\"Cards Dealer Has   :\", dealer_card) \n",
    "        print(\"Score Of The Dealer:\", dealer_score) \n",
    "        print(\"Cards you have     :\", player_card) \n",
    "        print(\"Your Score         :\", player_score) \n",
    "        print(\"\\nIt's a tie.\")\n",
    "\n",
    "        \n",
    "\n",
    "def StartGame():\n",
    "    welcome()\n",
    "    \n",
    "    Deck = CreateDeck()\n",
    "    \n",
    "    player_card, dealer_card, player_score, dealer_score = player_turn(Deck)\n",
    "    \n",
    "    dealer_card, dealer_score = dealer_turn(dealer_card, dealer_score)\n",
    "    \n",
    "    decide_winner(player_card, dealer_card, player_score, dealer_score)"
   ]
  },
  {
   "cell_type": "code",
   "execution_count": 17,
   "id": "a670ca6e-fba0-416e-92fb-d681ae91db18",
   "metadata": {},
   "outputs": [
    {
     "name": "stdout",
     "output_type": "stream",
     "text": [
      "----------: Welcome to the text-based Blackjack Game :----------\n",
      "Rules of this game:\n",
      "1) This game will be played between two players you and dealer(computer).\n",
      "2) You will get two cards and based on cards you will recieve some points.\n",
      "3) Points :\n",
      "i) 11 points for Ace.\n",
      "ii) 10 points for cards (Jack, King and Queen).\n",
      "iii) For other cards points are equal to the number mentioned on it. \n",
      "4) Winning condition :\n",
      "i) If you scored 21 points you win.\n",
      "ii) If you scored points more than dealer's point but less than 22, you win.\n",
      "5) Lose condition : \n",
      "i) If you scored more than 21 points you lose.\n",
      "ii) If you scored less then dealer's point, you lose.\n",
      "\n",
      "Start the Game : \n",
      "\n",
      "Cards Player Has: [(2, 'Spades'), (7, 'Clubs')]\n",
      "Your's Points : 9\n",
      "\n",
      "\n"
     ]
    },
    {
     "name": "stdin",
     "output_type": "stream",
     "text": [
      "What do you want? [\"play\" to request another card, \"stop\" to Stand]:  play\n"
     ]
    },
    {
     "name": "stdout",
     "output_type": "stream",
     "text": [
      "Cards Player Has: [(2, 'Spades'), (7, 'Clubs'), ('Jack', 'Clubs')]\n",
      "Your's Points : 19\n",
      "\n",
      "\n"
     ]
    },
    {
     "name": "stdin",
     "output_type": "stream",
     "text": [
      "What do you want? [\"play\" to request another card, \"stop\" to Stand]:  stop\n"
     ]
    },
    {
     "name": "stdout",
     "output_type": "stream",
     "text": [
      "Cards Dealer Has: [(10, 'Clubs'), ('King', 'Clubs')]\n",
      "Score Of The Dealer: 20\n",
      "\n",
      "\n",
      "Cards Dealer Has   : [(10, 'Clubs'), ('King', 'Clubs')]\n",
      "Score Of The Dealer: 20\n",
      "Cards you have     : [(2, 'Spades'), (7, 'Clubs'), ('Jack', 'Clubs')]\n",
      "Your Score         : 19\n",
      "\n",
      "Dealer wins (Dealer Has High Score than Player)\n"
     ]
    }
   ],
   "source": [
    "## Call this function to start the game\n",
    "StartGame()"
   ]
  },
  {
   "cell_type": "markdown",
   "id": "3b2b9412-c34d-4778-906e-861090314b6d",
   "metadata": {},
   "source": [
    "## 40) Write a program that generates the prime factors of a given number using trial division"
   ]
  },
  {
   "cell_type": "markdown",
   "id": "6e2f2d04-d9f7-4728-bb08-20f28e1f6db2",
   "metadata": {},
   "source": [
    "### Ans 40)\n",
    "\n",
    "1) Prime number : A number that only can be divisible by its own and 1.\n",
    "2) Factor of num2 : num1 can be a factor of num2 if num2 is divisible by num1.\n",
    "3) Task : So our task is to first find the factor then check whether it is prime or not.\n",
    "-  - If it is prime append it into list, else pass to the recusrion function to further factorise it.\n",
    "\n",
    "#### Steps:\n",
    "- Take a number from user to find the prime factor of it.\n",
    "- Pass the number to the recursion function that does the following things : \n",
    "- 1) First of all create a global list outside the function.\n",
    "- 2) write the base case for the number i.e if number becomes 1 that means number is completely facotrised and return the list of prime factors.\n",
    "- 3) Other cases, now start dividing the number from 2 till number\n",
    "- - 1) if divisible then check is it prime or not?, if prime append into list , update the number and pass it to the recursion function , else pass to the recursion function."
   ]
  },
  {
   "cell_type": "code",
   "execution_count": 37,
   "id": "168db3b6-a354-4a86-851c-d846901bbbc3",
   "metadata": {},
   "outputs": [
    {
     "name": "stdin",
     "output_type": "stream",
     "text": [
      "Enter a number to find its prime factors :  8\n"
     ]
    },
    {
     "name": "stdout",
     "output_type": "stream",
     "text": [
      "List of prime factors of given number is : \n"
     ]
    },
    {
     "data": {
      "text/plain": [
       "[2, 2, 2]"
      ]
     },
     "execution_count": 37,
     "metadata": {},
     "output_type": "execute_result"
    }
   ],
   "source": [
    "# create a global list to store prime factors of a given number\n",
    "prime_factor_lis = []\n",
    "\n",
    "def prime_factors(num40):\n",
    "    global prime_factor_lis\n",
    "    \n",
    "    ## base case if number becomes 1 return prime factor list bcz number can't factorise further.\n",
    "    if num40 == 1:\n",
    "        return prime_factor_lis\n",
    "    ## othere cases\n",
    "    else:\n",
    "        # divide the number from 2 till num , if number is divisible by any number check whether it is prime or not\n",
    "        # if it is prime append into the list else divide it further.\n",
    "        for i in range(2,num40+1):\n",
    "            if num40%i == 0:\n",
    "            \n",
    "                # code to check number is prime or not ? \n",
    "                for j in range(2,i):\n",
    "                    if i%j == 0:\n",
    "                        return prime_factors(i)\n",
    "                else:\n",
    "                    # when number is prime append into the list\n",
    "                    # update the number and pass it the function itself.\n",
    "                    prime_factor_lis.append(i)\n",
    "                    num40 = num40//i            \n",
    "                    return prime_factors(num40)\n",
    "                \n",
    "## take a number from user\n",
    "num40_1 = int(input(\"Enter a number to find its prime factors : \"))\n",
    "\n",
    "##call the recusrion function :\n",
    "print(\"List of prime factors of given number is : \")\n",
    "prime_factors(num40_1)"
   ]
  }
 ],
 "metadata": {
  "kernelspec": {
   "display_name": "Python 3 (ipykernel)",
   "language": "python",
   "name": "python3"
  },
  "language_info": {
   "codemirror_mode": {
    "name": "ipython",
    "version": 3
   },
   "file_extension": ".py",
   "mimetype": "text/x-python",
   "name": "python",
   "nbconvert_exporter": "python",
   "pygments_lexer": "ipython3",
   "version": "3.10.8"
  }
 },
 "nbformat": 4,
 "nbformat_minor": 5
}
